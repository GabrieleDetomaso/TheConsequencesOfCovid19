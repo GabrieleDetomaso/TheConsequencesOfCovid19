{
 "cells": [
  {
   "cell_type": "code",
   "execution_count": 1,
   "metadata": {},
   "outputs": [],
   "source": [
    "import numpy as np\n",
    "import pandas as pd"
   ]
  },
  {
   "cell_type": "code",
   "execution_count": 3,
   "metadata": {},
   "outputs": [],
   "source": [
    "df = pd.read_csv(\"./Documents/COVID_for_families.csv\")\n",
    "df_backup = pd.read_csv(\"./Documents/COVID_for_families.csv\")"
   ]
  },
  {
   "cell_type": "code",
   "execution_count": 31,
   "metadata": {},
   "outputs": [
    {
     "data": {
      "text/plain": [
       "(7305, 119)"
      ]
     },
     "execution_count": 31,
     "metadata": {},
     "output_type": "execute_result"
    }
   ],
   "source": [
    "df.shape"
   ]
  },
  {
   "cell_type": "markdown",
   "metadata": {},
   "source": [
    "## FASI DA AFFRONTARE\n",
    "1. Pulizia del dataset\n",
    "    - eliminare le features non utili\n",
    "    - eliminare le righe contenenti troppi campi nulli\n",
    "2. Features extraction\n",
    "\n",
    "3. Clustering\n",
    "4. Visualizzazione clusters\n",
    "5. Analisi di associazione di pattern interessanti\n",
    "6. Conclusioni"
   ]
  },
  {
   "cell_type": "code",
   "execution_count": 32,
   "metadata": {},
   "outputs": [
    {
     "name": "stdout",
     "output_type": "stream",
     "text": [
      "ID\n",
      "TemporaryMark\n",
      "Gender\n",
      "AutonomousCommunity\n",
      "SchoolOwnership\n",
      "Pond\n",
      "PondMax3\n",
      "KindOfPlace\n",
      "Income\n",
      "LivingUnit\n",
      "DependentPersons\n",
      "WorkConfinement\n",
      "WorkConfinementsSecondAdult\n",
      "ChildEarlyEducation1\n",
      "ChildEarlyEducation2\n",
      "ChildPrimaryEducation\n",
      "ChildSecondaryEducation\n",
      "ChildBaccaleaurate\n",
      "ChildVocationalTraining\n",
      "ChildrenSpecialNeeds\n",
      "WorkloadChange\n",
      "HouseworkMore\n",
      "Sleep\n",
      "Leisure\n",
      "Sports\n",
      "Friends\n",
      "ExtendedFamily\n",
      "Past\n",
      "Future\n",
      "Sex\n",
      "Reconciling\n",
      "DomesticHelp\n",
      "Tired\n",
      "TimeOff\n",
      "InterruptChildren\n",
      "InterruptChildrenFrequency\n",
      "ChildrenSchookwork\n",
      "ShareElectronicDevices\n",
      "Bedtime\n",
      "PositiveImpact\n",
      "Bonding\n",
      "BondingNeighbours\n",
      "TastesAndAbilities\n",
      "Responsability\n",
      "Adaptarion\n",
      "Understanding\n",
      "NegativeImpact\n",
      "Anxiety\n",
      "Loneliness\n",
      "Sadness\n",
      "LossFamilyMember\n",
      "FinancialLoss\n",
      "Arguments\n",
      "AlcoholMedicationDrug\n",
      "TechnologyUse\n",
      "NegativeImpactOther\n",
      "NegativeImpactNoanswer\n",
      "ChildPhysicalActivity\n",
      "ChildScreens\n",
      "ChildSleep\n",
      "ChildDiet\n",
      "ChildFear\n",
      "ChildFrustation\n",
      "Irritability\n",
      "Boredom\n",
      "ChildFake\n",
      "ChildIFriends\n",
      "ChildFriendship\n",
      "ChildSpace\n",
      "ChildIntrospection\n",
      "ChildLeavingHome\n",
      "ChildNoVariation\n",
      "ChildNoAnswers\n",
      "ChildMissExercise\n",
      "ChildMissFriends\n",
      "ChildMissExperience\n",
      "ChildMissContents\n",
      "ChildMissGroup\n",
      "ChildMissExam\n",
      "ChildMissTeacher\n",
      "HelpOnline\n",
      "SchoolCommunication\n",
      "ParentsGroups\n",
      "ParentsCommunicationReturn\n",
      "SchoolFees\n",
      "ChallengeContent\n",
      "ChallengeMonitoring\n",
      "ChallengeEmotionalSupport\n",
      "ChallengeNeeds\n",
      "ChallengeEvaluation\n",
      "ChallengeCommunication\n",
      "ChallengeOnline\n",
      "ChallengeEquipment\n",
      "ChallengeVulnerable\n",
      "ChallengeAny\n",
      "PriorityCustody\n",
      "PriorityContent\n",
      "PriorityAutonomy\n",
      "PrioritySocialisation\n",
      "PriorityEmotional\n",
      "FamiliesCollaboration\n",
      "SchoolSpace\n",
      "SpaceBarracks\n",
      "SpacePorch\n",
      "SpaceDining\n",
      "SpaceHall\n",
      "SpaceGym\n",
      "SpaceOther\n",
      "SpaceNone\n",
      "SpaceStreet\n",
      "SpacePlots\n",
      "SpaceParks\n",
      "SpacePublic\n",
      "SpaceSurroundingOther\n",
      "SpaceSurroundingNone\n",
      "ActivitiesOutside\n",
      "Selección\n",
      "filter_\n",
      "SchoolOwnership1\n"
     ]
    }
   ],
   "source": [
    "for name in df.columns:\n",
    "    print(name)"
   ]
  },
  {
   "cell_type": "markdown",
   "metadata": {},
   "source": [
    "## 1. Data preliminar analisys\n",
    "- Explore the dataset to detect missing values, outliers, and other necessary transformations\n",
    "- Describe the distribution of the main socio-demographic variables"
   ]
  },
  {
   "cell_type": "markdown",
   "metadata": {},
   "source": [
    "#### Note:\n",
    "Dataset unbalanced for the gendere 2 (female)"
   ]
  },
  {
   "cell_type": "code",
   "execution_count": 33,
   "metadata": {},
   "outputs": [
    {
     "data": {
      "text/plain": [
       "Gender\n",
       "2.0    6686\n",
       "1.0     600\n",
       "Name: count, dtype: int64"
      ]
     },
     "execution_count": 33,
     "metadata": {},
     "output_type": "execute_result"
    }
   ],
   "source": [
    "df.Gender.value_counts()"
   ]
  },
  {
   "cell_type": "markdown",
   "metadata": {},
   "source": [
    "#### Note:\n",
    "the First Provinces where the responents (76%) lives are:\n",
    "- COMUNIDAD VALENCIANA\n",
    "- MADRID\n",
    "- CATALUÑA\n",
    "- ANDALUCÍA"
   ]
  },
  {
   "cell_type": "code",
   "execution_count": 34,
   "metadata": {},
   "outputs": [
    {
     "data": {
      "text/plain": [
       "AutonomousCommunity\n",
       "COMUNIDAD VALENCIANA    3125\n",
       "MADRID                  1173\n",
       "CATALUÑA                 715\n",
       "ANDALUCÍA                535\n",
       "PAIS VASCO               235\n",
       "CASTILLA Y LEÓN          234\n",
       "CASTILLA LA MANCHA       223\n",
       "GALICIA                  212\n",
       "ARAGÓN                   159\n",
       "CANARIAS                 150\n",
       "ASTURIAS                 124\n",
       "MURCIA                   104\n",
       "ILLES BALEARS             86\n",
       "CANTABRIA                 67\n",
       "NAVARRA                   64\n",
       "EXTREMADURA               57\n",
       "LA RIOJA                  31\n",
       "CEUTA                      6\n",
       "MELILLA                    4\n",
       "Name: count, dtype: int64"
      ]
     },
     "execution_count": 34,
     "metadata": {},
     "output_type": "execute_result"
    }
   ],
   "source": [
    "df.AutonomousCommunity.value_counts()"
   ]
  },
  {
   "cell_type": "markdown",
   "metadata": {},
   "source": [
    "#### Note:\n",
    "Most of them live in Big city & send their kids to public school"
   ]
  },
  {
   "cell_type": "code",
   "execution_count": 35,
   "metadata": {},
   "outputs": [
    {
     "data": {
      "text/plain": [
       "KindOfPlace\n",
       "2.0    4273\n",
       "1.0    1805\n",
       "0.0    1027\n",
       "Name: count, dtype: int64"
      ]
     },
     "execution_count": 35,
     "metadata": {},
     "output_type": "execute_result"
    }
   ],
   "source": [
    "df.KindOfPlace.value_counts()"
   ]
  },
  {
   "cell_type": "code",
   "execution_count": 36,
   "metadata": {},
   "outputs": [
    {
     "data": {
      "text/plain": [
       "SchoolOwnership\n",
       "Público       4558\n",
       "Concertado    1810\n",
       "Privado        937\n",
       "Name: count, dtype: int64"
      ]
     },
     "execution_count": 36,
     "metadata": {},
     "output_type": "execute_result"
    }
   ],
   "source": [
    "df.SchoolOwnership.value_counts()"
   ]
  },
  {
   "cell_type": "markdown",
   "metadata": {},
   "source": [
    "#### Note:\n",
    "Most of the family are composed with \"Two adults with a minor or minors in their care\""
   ]
  },
  {
   "cell_type": "code",
   "execution_count": 37,
   "metadata": {},
   "outputs": [
    {
     "data": {
      "text/plain": [
       "LivingUnit\n",
       "2    6262\n",
       "1     699\n",
       "3     344\n",
       "Name: count, dtype: int64"
      ]
     },
     "execution_count": 37,
     "metadata": {},
     "output_type": "execute_result"
    }
   ],
   "source": [
    "df.LivingUnit.value_counts()"
   ]
  },
  {
   "cell_type": "markdown",
   "metadata": {},
   "source": [
    "#### Preliminar filtering\n",
    "Before any processing, I drop some columns which either have too many NaN values or are useless.\n",
    "\n",
    "Then I drop all the istances that have at least 2 NaN values (excluding 'Income' column).\n",
    "\n",
    "I don't remove all columns with at least one NaN value because they are important columns for the analysis and the percentage of NaN values ​​for each column is very low (1% over all instances).\n",
    "Same, I don't drop all instances with at least one NaN values because there are 5766 instances that match this status..."
   ]
  },
  {
   "cell_type": "code",
   "execution_count": 38,
   "metadata": {},
   "outputs": [],
   "source": [
    "drop_column_list = ['ID',\n",
    "                    'TemporaryMark', \n",
    "                    'Pond',\n",
    "                    'PondMax3', \n",
    "                    'ShareElectronicDevices', \n",
    "                    'NegativeImpactNoanswer', \n",
    "                    'SchoolFees', \n",
    "                    'Selección', \n",
    "                    'filter_', \n",
    "                    'SchoolOwnership1'\n",
    "                    ]\n",
    "\n",
    "df.drop(drop_column_list, axis=1, inplace=True)"
   ]
  },
  {
   "cell_type": "code",
   "execution_count": 39,
   "metadata": {},
   "outputs": [
    {
     "data": {
      "text/html": [
       "<div>\n",
       "<style scoped>\n",
       "    .dataframe tbody tr th:only-of-type {\n",
       "        vertical-align: middle;\n",
       "    }\n",
       "\n",
       "    .dataframe tbody tr th {\n",
       "        vertical-align: top;\n",
       "    }\n",
       "\n",
       "    .dataframe thead th {\n",
       "        text-align: right;\n",
       "    }\n",
       "</style>\n",
       "<table border=\"1\" class=\"dataframe\">\n",
       "  <thead>\n",
       "    <tr style=\"text-align: right;\">\n",
       "      <th></th>\n",
       "      <th>Gender</th>\n",
       "      <th>AutonomousCommunity</th>\n",
       "      <th>SchoolOwnership</th>\n",
       "      <th>KindOfPlace</th>\n",
       "      <th>Income</th>\n",
       "      <th>LivingUnit</th>\n",
       "      <th>DependentPersons</th>\n",
       "      <th>WorkConfinement</th>\n",
       "      <th>WorkConfinementsSecondAdult</th>\n",
       "      <th>ChildEarlyEducation1</th>\n",
       "      <th>...</th>\n",
       "      <th>SpaceGym</th>\n",
       "      <th>SpaceOther</th>\n",
       "      <th>SpaceNone</th>\n",
       "      <th>SpaceStreet</th>\n",
       "      <th>SpacePlots</th>\n",
       "      <th>SpaceParks</th>\n",
       "      <th>SpacePublic</th>\n",
       "      <th>SpaceSurroundingOther</th>\n",
       "      <th>SpaceSurroundingNone</th>\n",
       "      <th>ActivitiesOutside</th>\n",
       "    </tr>\n",
       "  </thead>\n",
       "  <tbody>\n",
       "    <tr>\n",
       "      <th>0</th>\n",
       "      <td>NaN</td>\n",
       "      <td>PAIS VASCO</td>\n",
       "      <td>Público</td>\n",
       "      <td>2.0</td>\n",
       "      <td>28443.0</td>\n",
       "      <td>2</td>\n",
       "      <td>0</td>\n",
       "      <td>1</td>\n",
       "      <td>1.0</td>\n",
       "      <td>1</td>\n",
       "      <td>...</td>\n",
       "      <td>0</td>\n",
       "      <td>0</td>\n",
       "      <td>0</td>\n",
       "      <td>0</td>\n",
       "      <td>0</td>\n",
       "      <td>0</td>\n",
       "      <td>1</td>\n",
       "      <td>0</td>\n",
       "      <td>0</td>\n",
       "      <td>2.0</td>\n",
       "    </tr>\n",
       "    <tr>\n",
       "      <th>1</th>\n",
       "      <td>2.0</td>\n",
       "      <td>PAIS VASCO</td>\n",
       "      <td>Público</td>\n",
       "      <td>2.0</td>\n",
       "      <td>29505.0</td>\n",
       "      <td>2</td>\n",
       "      <td>0</td>\n",
       "      <td>1</td>\n",
       "      <td>0.0</td>\n",
       "      <td>1</td>\n",
       "      <td>...</td>\n",
       "      <td>0</td>\n",
       "      <td>0</td>\n",
       "      <td>0</td>\n",
       "      <td>1</td>\n",
       "      <td>0</td>\n",
       "      <td>1</td>\n",
       "      <td>1</td>\n",
       "      <td>0</td>\n",
       "      <td>0</td>\n",
       "      <td>2.0</td>\n",
       "    </tr>\n",
       "    <tr>\n",
       "      <th>2</th>\n",
       "      <td>2.0</td>\n",
       "      <td>PAIS VASCO</td>\n",
       "      <td>Público</td>\n",
       "      <td>2.0</td>\n",
       "      <td>29505.0</td>\n",
       "      <td>2</td>\n",
       "      <td>0</td>\n",
       "      <td>1</td>\n",
       "      <td>1.0</td>\n",
       "      <td>0</td>\n",
       "      <td>...</td>\n",
       "      <td>0</td>\n",
       "      <td>0</td>\n",
       "      <td>0</td>\n",
       "      <td>0</td>\n",
       "      <td>0</td>\n",
       "      <td>1</td>\n",
       "      <td>1</td>\n",
       "      <td>0</td>\n",
       "      <td>0</td>\n",
       "      <td>2.0</td>\n",
       "    </tr>\n",
       "    <tr>\n",
       "      <th>3</th>\n",
       "      <td>2.0</td>\n",
       "      <td>PAIS VASCO</td>\n",
       "      <td>Concertado</td>\n",
       "      <td>2.0</td>\n",
       "      <td>29505.0</td>\n",
       "      <td>2</td>\n",
       "      <td>0</td>\n",
       "      <td>1</td>\n",
       "      <td>1.0</td>\n",
       "      <td>1</td>\n",
       "      <td>...</td>\n",
       "      <td>0</td>\n",
       "      <td>0</td>\n",
       "      <td>0</td>\n",
       "      <td>1</td>\n",
       "      <td>0</td>\n",
       "      <td>1</td>\n",
       "      <td>0</td>\n",
       "      <td>0</td>\n",
       "      <td>0</td>\n",
       "      <td>3.0</td>\n",
       "    </tr>\n",
       "    <tr>\n",
       "      <th>4</th>\n",
       "      <td>2.0</td>\n",
       "      <td>PAIS VASCO</td>\n",
       "      <td>Público</td>\n",
       "      <td>2.0</td>\n",
       "      <td>29505.0</td>\n",
       "      <td>2</td>\n",
       "      <td>0</td>\n",
       "      <td>1</td>\n",
       "      <td>1.0</td>\n",
       "      <td>0</td>\n",
       "      <td>...</td>\n",
       "      <td>0</td>\n",
       "      <td>1</td>\n",
       "      <td>0</td>\n",
       "      <td>0</td>\n",
       "      <td>0</td>\n",
       "      <td>1</td>\n",
       "      <td>0</td>\n",
       "      <td>0</td>\n",
       "      <td>0</td>\n",
       "      <td>3.0</td>\n",
       "    </tr>\n",
       "  </tbody>\n",
       "</table>\n",
       "<p>5 rows × 109 columns</p>\n",
       "</div>"
      ],
      "text/plain": [
       "   Gender AutonomousCommunity SchoolOwnership  KindOfPlace   Income  \\\n",
       "0     NaN          PAIS VASCO         Público          2.0  28443.0   \n",
       "1     2.0          PAIS VASCO         Público          2.0  29505.0   \n",
       "2     2.0          PAIS VASCO         Público          2.0  29505.0   \n",
       "3     2.0          PAIS VASCO      Concertado          2.0  29505.0   \n",
       "4     2.0          PAIS VASCO         Público          2.0  29505.0   \n",
       "\n",
       "   LivingUnit  DependentPersons  WorkConfinement  WorkConfinementsSecondAdult  \\\n",
       "0           2                 0                1                          1.0   \n",
       "1           2                 0                1                          0.0   \n",
       "2           2                 0                1                          1.0   \n",
       "3           2                 0                1                          1.0   \n",
       "4           2                 0                1                          1.0   \n",
       "\n",
       "   ChildEarlyEducation1  ...  SpaceGym  SpaceOther  SpaceNone  SpaceStreet  \\\n",
       "0                     1  ...         0           0          0            0   \n",
       "1                     1  ...         0           0          0            1   \n",
       "2                     0  ...         0           0          0            0   \n",
       "3                     1  ...         0           0          0            1   \n",
       "4                     0  ...         0           1          0            0   \n",
       "\n",
       "   SpacePlots  SpaceParks  SpacePublic  SpaceSurroundingOther  \\\n",
       "0           0           0            1                      0   \n",
       "1           0           1            1                      0   \n",
       "2           0           1            1                      0   \n",
       "3           0           1            0                      0   \n",
       "4           0           1            0                      0   \n",
       "\n",
       "   SpaceSurroundingNone  ActivitiesOutside  \n",
       "0                     0                2.0  \n",
       "1                     0                2.0  \n",
       "2                     0                2.0  \n",
       "3                     0                3.0  \n",
       "4                     0                3.0  \n",
       "\n",
       "[5 rows x 109 columns]"
      ]
     },
     "execution_count": 39,
     "metadata": {},
     "output_type": "execute_result"
    }
   ],
   "source": [
    "df.head()"
   ]
  },
  {
   "cell_type": "code",
   "execution_count": 40,
   "metadata": {},
   "outputs": [
    {
     "data": {
      "text/plain": [
       "Index(['Gender', 'AutonomousCommunity', 'KindOfPlace', 'Income',\n",
       "       'WorkConfinementsSecondAdult', 'WorkloadChange', 'HouseworkMore',\n",
       "       'Sleep', 'Leisure', 'Sports', 'Friends', 'ExtendedFamily', 'Past',\n",
       "       'Future', 'Sex', 'Reconciling', 'DomesticHelp', 'TimeOff',\n",
       "       'InterruptChildren', 'InterruptChildrenFrequency', 'ChildrenSchookwork',\n",
       "       'Bedtime', 'PositiveImpact', 'NegativeImpact', 'HelpOnline',\n",
       "       'SchoolCommunication', 'ParentsGroups', 'ParentsCommunicationReturn',\n",
       "       'FamiliesCollaboration', 'SchoolSpace', 'ActivitiesOutside'],\n",
       "      dtype='object')"
      ]
     },
     "execution_count": 40,
     "metadata": {},
     "output_type": "execute_result"
    }
   ],
   "source": [
    "# Columns with a least one nan value\n",
    "df.columns[df.isna().any()]"
   ]
  },
  {
   "cell_type": "code",
   "execution_count": 48,
   "metadata": {},
   "outputs": [
    {
     "data": {
      "text/html": [
       "<div>\n",
       "<style scoped>\n",
       "    .dataframe tbody tr th:only-of-type {\n",
       "        vertical-align: middle;\n",
       "    }\n",
       "\n",
       "    .dataframe tbody tr th {\n",
       "        vertical-align: top;\n",
       "    }\n",
       "\n",
       "    .dataframe thead th {\n",
       "        text-align: right;\n",
       "    }\n",
       "</style>\n",
       "<table border=\"1\" class=\"dataframe\">\n",
       "  <thead>\n",
       "    <tr style=\"text-align: right;\">\n",
       "      <th></th>\n",
       "      <th>Gender</th>\n",
       "      <th>AutonomousCommunity</th>\n",
       "      <th>KindOfPlace</th>\n",
       "      <th>WorkloadChange</th>\n",
       "      <th>HouseworkMore</th>\n",
       "      <th>Sleep</th>\n",
       "      <th>Leisure</th>\n",
       "      <th>Sports</th>\n",
       "      <th>Friends</th>\n",
       "      <th>ExtendedFamily</th>\n",
       "      <th>...</th>\n",
       "      <th>Bedtime</th>\n",
       "      <th>PositiveImpact</th>\n",
       "      <th>NegativeImpact</th>\n",
       "      <th>HelpOnline</th>\n",
       "      <th>SchoolCommunication</th>\n",
       "      <th>ParentsGroups</th>\n",
       "      <th>ParentsCommunicationReturn</th>\n",
       "      <th>FamiliesCollaboration</th>\n",
       "      <th>SchoolSpace</th>\n",
       "      <th>ActivitiesOutside</th>\n",
       "    </tr>\n",
       "  </thead>\n",
       "  <tbody>\n",
       "    <tr>\n",
       "      <th>0</th>\n",
       "      <td>NaN</td>\n",
       "      <td>PAIS VASCO</td>\n",
       "      <td>2.0</td>\n",
       "      <td>3.0</td>\n",
       "      <td>2.0</td>\n",
       "      <td>2.0</td>\n",
       "      <td>2.0</td>\n",
       "      <td>2.0</td>\n",
       "      <td>3.0</td>\n",
       "      <td>3.0</td>\n",
       "      <td>...</td>\n",
       "      <td>1.0</td>\n",
       "      <td>2.0</td>\n",
       "      <td>2.0</td>\n",
       "      <td>NaN</td>\n",
       "      <td>3.0</td>\n",
       "      <td>3.0</td>\n",
       "      <td>1.0</td>\n",
       "      <td>3.0</td>\n",
       "      <td>1.0</td>\n",
       "      <td>2.0</td>\n",
       "    </tr>\n",
       "    <tr>\n",
       "      <th>1</th>\n",
       "      <td>2.0</td>\n",
       "      <td>PAIS VASCO</td>\n",
       "      <td>2.0</td>\n",
       "      <td>4.0</td>\n",
       "      <td>2.0</td>\n",
       "      <td>3.0</td>\n",
       "      <td>3.0</td>\n",
       "      <td>1.0</td>\n",
       "      <td>1.0</td>\n",
       "      <td>4.0</td>\n",
       "      <td>...</td>\n",
       "      <td>0.0</td>\n",
       "      <td>1.0</td>\n",
       "      <td>2.0</td>\n",
       "      <td>3.0</td>\n",
       "      <td>4.0</td>\n",
       "      <td>4.0</td>\n",
       "      <td>2.0</td>\n",
       "      <td>2.0</td>\n",
       "      <td>1.0</td>\n",
       "      <td>2.0</td>\n",
       "    </tr>\n",
       "    <tr>\n",
       "      <th>3</th>\n",
       "      <td>2.0</td>\n",
       "      <td>PAIS VASCO</td>\n",
       "      <td>2.0</td>\n",
       "      <td>4.0</td>\n",
       "      <td>2.0</td>\n",
       "      <td>2.0</td>\n",
       "      <td>4.0</td>\n",
       "      <td>3.0</td>\n",
       "      <td>2.0</td>\n",
       "      <td>2.0</td>\n",
       "      <td>...</td>\n",
       "      <td>1.0</td>\n",
       "      <td>2.0</td>\n",
       "      <td>2.0</td>\n",
       "      <td>3.0</td>\n",
       "      <td>2.0</td>\n",
       "      <td>3.0</td>\n",
       "      <td>2.0</td>\n",
       "      <td>3.0</td>\n",
       "      <td>1.0</td>\n",
       "      <td>3.0</td>\n",
       "    </tr>\n",
       "    <tr>\n",
       "      <th>5</th>\n",
       "      <td>2.0</td>\n",
       "      <td>PAIS VASCO</td>\n",
       "      <td>2.0</td>\n",
       "      <td>6.0</td>\n",
       "      <td>2.0</td>\n",
       "      <td>3.0</td>\n",
       "      <td>1.0</td>\n",
       "      <td>1.0</td>\n",
       "      <td>3.0</td>\n",
       "      <td>1.0</td>\n",
       "      <td>...</td>\n",
       "      <td>0.0</td>\n",
       "      <td>2.0</td>\n",
       "      <td>2.0</td>\n",
       "      <td>3.0</td>\n",
       "      <td>1.0</td>\n",
       "      <td>4.0</td>\n",
       "      <td>3.0</td>\n",
       "      <td>3.0</td>\n",
       "      <td>1.0</td>\n",
       "      <td>3.0</td>\n",
       "    </tr>\n",
       "    <tr>\n",
       "      <th>11</th>\n",
       "      <td>2.0</td>\n",
       "      <td>PAIS VASCO</td>\n",
       "      <td>2.0</td>\n",
       "      <td>NaN</td>\n",
       "      <td>2.0</td>\n",
       "      <td>4.0</td>\n",
       "      <td>4.0</td>\n",
       "      <td>3.0</td>\n",
       "      <td>3.0</td>\n",
       "      <td>3.0</td>\n",
       "      <td>...</td>\n",
       "      <td>0.0</td>\n",
       "      <td>2.0</td>\n",
       "      <td>0.0</td>\n",
       "      <td>4.0</td>\n",
       "      <td>3.0</td>\n",
       "      <td>3.0</td>\n",
       "      <td>2.0</td>\n",
       "      <td>3.0</td>\n",
       "      <td>1.0</td>\n",
       "      <td>1.0</td>\n",
       "    </tr>\n",
       "    <tr>\n",
       "      <th>...</th>\n",
       "      <td>...</td>\n",
       "      <td>...</td>\n",
       "      <td>...</td>\n",
       "      <td>...</td>\n",
       "      <td>...</td>\n",
       "      <td>...</td>\n",
       "      <td>...</td>\n",
       "      <td>...</td>\n",
       "      <td>...</td>\n",
       "      <td>...</td>\n",
       "      <td>...</td>\n",
       "      <td>...</td>\n",
       "      <td>...</td>\n",
       "      <td>...</td>\n",
       "      <td>...</td>\n",
       "      <td>...</td>\n",
       "      <td>...</td>\n",
       "      <td>...</td>\n",
       "      <td>...</td>\n",
       "      <td>...</td>\n",
       "      <td>...</td>\n",
       "    </tr>\n",
       "    <tr>\n",
       "      <th>7299</th>\n",
       "      <td>2.0</td>\n",
       "      <td>CEUTA</td>\n",
       "      <td>2.0</td>\n",
       "      <td>7.0</td>\n",
       "      <td>0.0</td>\n",
       "      <td>3.0</td>\n",
       "      <td>4.0</td>\n",
       "      <td>3.0</td>\n",
       "      <td>2.0</td>\n",
       "      <td>3.0</td>\n",
       "      <td>...</td>\n",
       "      <td>0.0</td>\n",
       "      <td>2.0</td>\n",
       "      <td>2.0</td>\n",
       "      <td>4.0</td>\n",
       "      <td>2.0</td>\n",
       "      <td>3.0</td>\n",
       "      <td>2.0</td>\n",
       "      <td>3.0</td>\n",
       "      <td>1.0</td>\n",
       "      <td>3.0</td>\n",
       "    </tr>\n",
       "    <tr>\n",
       "      <th>7300</th>\n",
       "      <td>1.0</td>\n",
       "      <td>CEUTA</td>\n",
       "      <td>2.0</td>\n",
       "      <td>2.0</td>\n",
       "      <td>2.0</td>\n",
       "      <td>2.0</td>\n",
       "      <td>3.0</td>\n",
       "      <td>3.0</td>\n",
       "      <td>2.0</td>\n",
       "      <td>2.0</td>\n",
       "      <td>...</td>\n",
       "      <td>0.0</td>\n",
       "      <td>1.0</td>\n",
       "      <td>2.0</td>\n",
       "      <td>2.0</td>\n",
       "      <td>NaN</td>\n",
       "      <td>NaN</td>\n",
       "      <td>NaN</td>\n",
       "      <td>3.0</td>\n",
       "      <td>3.0</td>\n",
       "      <td>3.0</td>\n",
       "    </tr>\n",
       "    <tr>\n",
       "      <th>7302</th>\n",
       "      <td>2.0</td>\n",
       "      <td>MELILLA</td>\n",
       "      <td>NaN</td>\n",
       "      <td>3.0</td>\n",
       "      <td>1.0</td>\n",
       "      <td>2.0</td>\n",
       "      <td>2.0</td>\n",
       "      <td>1.0</td>\n",
       "      <td>2.0</td>\n",
       "      <td>3.0</td>\n",
       "      <td>...</td>\n",
       "      <td>1.0</td>\n",
       "      <td>0.0</td>\n",
       "      <td>2.0</td>\n",
       "      <td>3.0</td>\n",
       "      <td>2.0</td>\n",
       "      <td>3.0</td>\n",
       "      <td>2.0</td>\n",
       "      <td>3.0</td>\n",
       "      <td>1.0</td>\n",
       "      <td>2.0</td>\n",
       "    </tr>\n",
       "    <tr>\n",
       "      <th>7303</th>\n",
       "      <td>2.0</td>\n",
       "      <td>MELILLA</td>\n",
       "      <td>NaN</td>\n",
       "      <td>4.0</td>\n",
       "      <td>2.0</td>\n",
       "      <td>3.0</td>\n",
       "      <td>2.0</td>\n",
       "      <td>2.0</td>\n",
       "      <td>2.0</td>\n",
       "      <td>2.0</td>\n",
       "      <td>...</td>\n",
       "      <td>1.0</td>\n",
       "      <td>2.0</td>\n",
       "      <td>2.0</td>\n",
       "      <td>3.0</td>\n",
       "      <td>2.0</td>\n",
       "      <td>2.0</td>\n",
       "      <td>2.0</td>\n",
       "      <td>3.0</td>\n",
       "      <td>1.0</td>\n",
       "      <td>3.0</td>\n",
       "    </tr>\n",
       "    <tr>\n",
       "      <th>7304</th>\n",
       "      <td>2.0</td>\n",
       "      <td>MELILLA</td>\n",
       "      <td>NaN</td>\n",
       "      <td>3.0</td>\n",
       "      <td>0.0</td>\n",
       "      <td>4.0</td>\n",
       "      <td>4.0</td>\n",
       "      <td>4.0</td>\n",
       "      <td>3.0</td>\n",
       "      <td>3.0</td>\n",
       "      <td>...</td>\n",
       "      <td>1.0</td>\n",
       "      <td>2.0</td>\n",
       "      <td>2.0</td>\n",
       "      <td>3.0</td>\n",
       "      <td>1.0</td>\n",
       "      <td>2.0</td>\n",
       "      <td>1.0</td>\n",
       "      <td>3.0</td>\n",
       "      <td>1.0</td>\n",
       "      <td>2.0</td>\n",
       "    </tr>\n",
       "  </tbody>\n",
       "</table>\n",
       "<p>1270 rows × 28 columns</p>\n",
       "</div>"
      ],
      "text/plain": [
       "      Gender AutonomousCommunity  KindOfPlace  WorkloadChange  HouseworkMore  \\\n",
       "0        NaN          PAIS VASCO          2.0             3.0            2.0   \n",
       "1        2.0          PAIS VASCO          2.0             4.0            2.0   \n",
       "3        2.0          PAIS VASCO          2.0             4.0            2.0   \n",
       "5        2.0          PAIS VASCO          2.0             6.0            2.0   \n",
       "11       2.0          PAIS VASCO          2.0             NaN            2.0   \n",
       "...      ...                 ...          ...             ...            ...   \n",
       "7299     2.0               CEUTA          2.0             7.0            0.0   \n",
       "7300     1.0               CEUTA          2.0             2.0            2.0   \n",
       "7302     2.0             MELILLA          NaN             3.0            1.0   \n",
       "7303     2.0             MELILLA          NaN             4.0            2.0   \n",
       "7304     2.0             MELILLA          NaN             3.0            0.0   \n",
       "\n",
       "      Sleep  Leisure  Sports  Friends  ExtendedFamily  ...  Bedtime  \\\n",
       "0       2.0      2.0     2.0      3.0             3.0  ...      1.0   \n",
       "1       3.0      3.0     1.0      1.0             4.0  ...      0.0   \n",
       "3       2.0      4.0     3.0      2.0             2.0  ...      1.0   \n",
       "5       3.0      1.0     1.0      3.0             1.0  ...      0.0   \n",
       "11      4.0      4.0     3.0      3.0             3.0  ...      0.0   \n",
       "...     ...      ...     ...      ...             ...  ...      ...   \n",
       "7299    3.0      4.0     3.0      2.0             3.0  ...      0.0   \n",
       "7300    2.0      3.0     3.0      2.0             2.0  ...      0.0   \n",
       "7302    2.0      2.0     1.0      2.0             3.0  ...      1.0   \n",
       "7303    3.0      2.0     2.0      2.0             2.0  ...      1.0   \n",
       "7304    4.0      4.0     4.0      3.0             3.0  ...      1.0   \n",
       "\n",
       "      PositiveImpact  NegativeImpact  HelpOnline  SchoolCommunication  \\\n",
       "0                2.0             2.0         NaN                  3.0   \n",
       "1                1.0             2.0         3.0                  4.0   \n",
       "3                2.0             2.0         3.0                  2.0   \n",
       "5                2.0             2.0         3.0                  1.0   \n",
       "11               2.0             0.0         4.0                  3.0   \n",
       "...              ...             ...         ...                  ...   \n",
       "7299             2.0             2.0         4.0                  2.0   \n",
       "7300             1.0             2.0         2.0                  NaN   \n",
       "7302             0.0             2.0         3.0                  2.0   \n",
       "7303             2.0             2.0         3.0                  2.0   \n",
       "7304             2.0             2.0         3.0                  1.0   \n",
       "\n",
       "      ParentsGroups  ParentsCommunicationReturn  FamiliesCollaboration  \\\n",
       "0               3.0                         1.0                    3.0   \n",
       "1               4.0                         2.0                    2.0   \n",
       "3               3.0                         2.0                    3.0   \n",
       "5               4.0                         3.0                    3.0   \n",
       "11              3.0                         2.0                    3.0   \n",
       "...             ...                         ...                    ...   \n",
       "7299            3.0                         2.0                    3.0   \n",
       "7300            NaN                         NaN                    3.0   \n",
       "7302            3.0                         2.0                    3.0   \n",
       "7303            2.0                         2.0                    3.0   \n",
       "7304            2.0                         1.0                    3.0   \n",
       "\n",
       "      SchoolSpace  ActivitiesOutside  \n",
       "0             1.0                2.0  \n",
       "1             1.0                2.0  \n",
       "3             1.0                3.0  \n",
       "5             1.0                3.0  \n",
       "11            1.0                1.0  \n",
       "...           ...                ...  \n",
       "7299          1.0                3.0  \n",
       "7300          3.0                3.0  \n",
       "7302          1.0                2.0  \n",
       "7303          1.0                3.0  \n",
       "7304          1.0                2.0  \n",
       "\n",
       "[1270 rows x 28 columns]"
      ]
     },
     "execution_count": 48,
     "metadata": {},
     "output_type": "execute_result"
    }
   ],
   "source": [
    "# Columns with a least one nan value\n",
    "na_columns = df.columns[df.isna().any()]\n",
    "\n",
    "na_columns = na_columns.drop(\"Income\")\n",
    "\n",
    "# rows with a least 2 nan value\n",
    "na_rows = df[na_columns].isna().sum(axis=1) >= 2\n",
    "\n",
    "df_lessToManyNa = df.loc[na_rows, na_columns]\n",
    "df_lessToManyNa\n"
   ]
  },
  {
   "cell_type": "code",
   "execution_count": 1056,
   "metadata": {},
   "outputs": [],
   "source": [
    "index = [i for i in np.array(df.index) if i not in df_lessToManyNa.index]\n",
    "\n",
    "df = df.loc[index, :]"
   ]
  },
  {
   "cell_type": "code",
   "execution_count": 1057,
   "metadata": {},
   "outputs": [
    {
     "data": {
      "text/plain": [
       "(6447, 109)"
      ]
     },
     "execution_count": 1057,
     "metadata": {},
     "output_type": "execute_result"
    }
   ],
   "source": [
    "df.shape"
   ]
  },
  {
   "cell_type": "markdown",
   "metadata": {},
   "source": [
    "---"
   ]
  },
  {
   "cell_type": "markdown",
   "metadata": {},
   "source": [
    "### nan values of '**AutonomousCommunity**' column\n",
    "\n",
    "- It's just one, I replace its value with mode because it has all the non-NaN features, so it's very significant for the analysis"
   ]
  },
  {
   "cell_type": "code",
   "execution_count": 1058,
   "metadata": {},
   "outputs": [
    {
     "data": {
      "text/html": [
       "<div>\n",
       "<style scoped>\n",
       "    .dataframe tbody tr th:only-of-type {\n",
       "        vertical-align: middle;\n",
       "    }\n",
       "\n",
       "    .dataframe tbody tr th {\n",
       "        vertical-align: top;\n",
       "    }\n",
       "\n",
       "    .dataframe thead th {\n",
       "        text-align: right;\n",
       "    }\n",
       "</style>\n",
       "<table border=\"1\" class=\"dataframe\">\n",
       "  <thead>\n",
       "    <tr style=\"text-align: right;\">\n",
       "      <th></th>\n",
       "      <th>Gender</th>\n",
       "      <th>AutonomousCommunity</th>\n",
       "      <th>SchoolOwnership</th>\n",
       "      <th>KindOfPlace</th>\n",
       "      <th>Income</th>\n",
       "      <th>LivingUnit</th>\n",
       "      <th>DependentPersons</th>\n",
       "      <th>WorkConfinement</th>\n",
       "      <th>WorkConfinementsSecondAdult</th>\n",
       "      <th>ChildEarlyEducation1</th>\n",
       "      <th>...</th>\n",
       "      <th>SpaceGym</th>\n",
       "      <th>SpaceOther</th>\n",
       "      <th>SpaceNone</th>\n",
       "      <th>SpaceStreet</th>\n",
       "      <th>SpacePlots</th>\n",
       "      <th>SpaceParks</th>\n",
       "      <th>SpacePublic</th>\n",
       "      <th>SpaceSurroundingOther</th>\n",
       "      <th>SpaceSurroundingNone</th>\n",
       "      <th>ActivitiesOutside</th>\n",
       "    </tr>\n",
       "  </thead>\n",
       "  <tbody>\n",
       "    <tr>\n",
       "      <th>733</th>\n",
       "      <td>False</td>\n",
       "      <td>True</td>\n",
       "      <td>False</td>\n",
       "      <td>False</td>\n",
       "      <td>False</td>\n",
       "      <td>False</td>\n",
       "      <td>False</td>\n",
       "      <td>False</td>\n",
       "      <td>False</td>\n",
       "      <td>False</td>\n",
       "      <td>...</td>\n",
       "      <td>False</td>\n",
       "      <td>False</td>\n",
       "      <td>False</td>\n",
       "      <td>False</td>\n",
       "      <td>False</td>\n",
       "      <td>False</td>\n",
       "      <td>False</td>\n",
       "      <td>False</td>\n",
       "      <td>False</td>\n",
       "      <td>False</td>\n",
       "    </tr>\n",
       "  </tbody>\n",
       "</table>\n",
       "<p>1 rows × 109 columns</p>\n",
       "</div>"
      ],
      "text/plain": [
       "     Gender  AutonomousCommunity  SchoolOwnership  KindOfPlace  Income  \\\n",
       "733   False                 True            False        False   False   \n",
       "\n",
       "     LivingUnit  DependentPersons  WorkConfinement  \\\n",
       "733       False             False            False   \n",
       "\n",
       "     WorkConfinementsSecondAdult  ChildEarlyEducation1  ...  SpaceGym  \\\n",
       "733                        False                 False  ...     False   \n",
       "\n",
       "     SpaceOther  SpaceNone  SpaceStreet  SpacePlots  SpaceParks  SpacePublic  \\\n",
       "733       False      False        False       False       False        False   \n",
       "\n",
       "     SpaceSurroundingOther  SpaceSurroundingNone  ActivitiesOutside  \n",
       "733                  False                 False              False  \n",
       "\n",
       "[1 rows x 109 columns]"
      ]
     },
     "execution_count": 1058,
     "metadata": {},
     "output_type": "execute_result"
    }
   ],
   "source": [
    "df.loc[df.AutonomousCommunity.isna(), :].isna()"
   ]
  },
  {
   "cell_type": "code",
   "execution_count": 1059,
   "metadata": {},
   "outputs": [
    {
     "data": {
      "text/plain": [
       "AutonomousCommunity \n",
       "COMUNIDAD VALENCIANA    2790\n",
       "MADRID                  1062\n",
       "CATALUÑA                 627\n",
       "ANDALUCÍA                464\n",
       "CASTILLA Y LEÓN          208\n",
       "PAIS VASCO               195\n",
       "GALICIA                  181\n",
       "CASTILLA LA MANCHA       178\n",
       "ARAGÓN                   144\n",
       "CANARIAS                 125\n",
       "ASTURIAS                 117\n",
       "MURCIA                    93\n",
       "ILLES BALEARS             75\n",
       "CANTABRIA                 56\n",
       "NAVARRA                   54\n",
       "EXTREMADURA               42\n",
       "LA RIOJA                  27\n",
       "CEUTA                      4\n",
       "MELILLA                    4\n",
       "Name: count, dtype: int64"
      ]
     },
     "execution_count": 1059,
     "metadata": {},
     "output_type": "execute_result"
    }
   ],
   "source": [
    "df.loc[:, [\"AutonomousCommunity\"]].value_counts()"
   ]
  },
  {
   "cell_type": "code",
   "execution_count": 1060,
   "metadata": {},
   "outputs": [],
   "source": [
    "AutoCom_mode = df.AutonomousCommunity.mode()[0]\n",
    "df.loc[df.AutonomousCommunity.isna(), ['AutonomousCommunity']] = AutoCom_mode"
   ]
  },
  {
   "cell_type": "markdown",
   "metadata": {},
   "source": [
    "---"
   ]
  },
  {
   "cell_type": "markdown",
   "metadata": {},
   "source": [
    "### nan values of '**KindOfPlace**' column"
   ]
  },
  {
   "cell_type": "code",
   "execution_count": 1061,
   "metadata": {},
   "outputs": [],
   "source": [
    "df = df.loc[df.KindOfPlace.isna() == False, :]"
   ]
  },
  {
   "cell_type": "markdown",
   "metadata": {},
   "source": [
    "---"
   ]
  },
  {
   "cell_type": "markdown",
   "metadata": {},
   "source": [
    "### nan values of '**WorkConfinementsSecondAdult**' column\n",
    "\n",
    "- If '**LivingUnit**' value is 1 (\"**One adult person with a minor or minors in care**\") then '**WorkConfinementsSecondAdult**' value is set to 0 (\"**No**\")\n",
    "\n",
    "The remaining instances are dropped"
   ]
  },
  {
   "cell_type": "code",
   "execution_count": 1062,
   "metadata": {},
   "outputs": [],
   "source": [
    "mask_index = df.LivingUnit == 1 & df.WorkConfinementsSecondAdult.isna()\n",
    "\n",
    "df.loc[mask_index, 'WorkConfinementsSecondAdult'] = 0\n",
    "# .replace(to_replace=np.nan,value= 0, inplace=True)\n"
   ]
  },
  {
   "cell_type": "code",
   "execution_count": 1063,
   "metadata": {},
   "outputs": [
    {
     "data": {
      "text/html": [
       "<div>\n",
       "<style scoped>\n",
       "    .dataframe tbody tr th:only-of-type {\n",
       "        vertical-align: middle;\n",
       "    }\n",
       "\n",
       "    .dataframe tbody tr th {\n",
       "        vertical-align: top;\n",
       "    }\n",
       "\n",
       "    .dataframe thead th {\n",
       "        text-align: right;\n",
       "    }\n",
       "</style>\n",
       "<table border=\"1\" class=\"dataframe\">\n",
       "  <thead>\n",
       "    <tr style=\"text-align: right;\">\n",
       "      <th></th>\n",
       "      <th>LivingUnit</th>\n",
       "      <th>WorkConfinementsSecondAdult</th>\n",
       "    </tr>\n",
       "  </thead>\n",
       "  <tbody>\n",
       "    <tr>\n",
       "      <th>319</th>\n",
       "      <td>2</td>\n",
       "      <td>NaN</td>\n",
       "    </tr>\n",
       "    <tr>\n",
       "      <th>754</th>\n",
       "      <td>2</td>\n",
       "      <td>NaN</td>\n",
       "    </tr>\n",
       "    <tr>\n",
       "      <th>1687</th>\n",
       "      <td>2</td>\n",
       "      <td>NaN</td>\n",
       "    </tr>\n",
       "    <tr>\n",
       "      <th>1778</th>\n",
       "      <td>2</td>\n",
       "      <td>NaN</td>\n",
       "    </tr>\n",
       "    <tr>\n",
       "      <th>1942</th>\n",
       "      <td>2</td>\n",
       "      <td>NaN</td>\n",
       "    </tr>\n",
       "    <tr>\n",
       "      <th>2264</th>\n",
       "      <td>2</td>\n",
       "      <td>NaN</td>\n",
       "    </tr>\n",
       "    <tr>\n",
       "      <th>2287</th>\n",
       "      <td>2</td>\n",
       "      <td>NaN</td>\n",
       "    </tr>\n",
       "    <tr>\n",
       "      <th>3608</th>\n",
       "      <td>2</td>\n",
       "      <td>NaN</td>\n",
       "    </tr>\n",
       "    <tr>\n",
       "      <th>3631</th>\n",
       "      <td>2</td>\n",
       "      <td>NaN</td>\n",
       "    </tr>\n",
       "    <tr>\n",
       "      <th>3834</th>\n",
       "      <td>2</td>\n",
       "      <td>NaN</td>\n",
       "    </tr>\n",
       "    <tr>\n",
       "      <th>4448</th>\n",
       "      <td>2</td>\n",
       "      <td>NaN</td>\n",
       "    </tr>\n",
       "    <tr>\n",
       "      <th>5465</th>\n",
       "      <td>2</td>\n",
       "      <td>NaN</td>\n",
       "    </tr>\n",
       "    <tr>\n",
       "      <th>6696</th>\n",
       "      <td>2</td>\n",
       "      <td>NaN</td>\n",
       "    </tr>\n",
       "    <tr>\n",
       "      <th>6697</th>\n",
       "      <td>2</td>\n",
       "      <td>NaN</td>\n",
       "    </tr>\n",
       "    <tr>\n",
       "      <th>6792</th>\n",
       "      <td>2</td>\n",
       "      <td>NaN</td>\n",
       "    </tr>\n",
       "  </tbody>\n",
       "</table>\n",
       "</div>"
      ],
      "text/plain": [
       "      LivingUnit  WorkConfinementsSecondAdult\n",
       "319            2                          NaN\n",
       "754            2                          NaN\n",
       "1687           2                          NaN\n",
       "1778           2                          NaN\n",
       "1942           2                          NaN\n",
       "2264           2                          NaN\n",
       "2287           2                          NaN\n",
       "3608           2                          NaN\n",
       "3631           2                          NaN\n",
       "3834           2                          NaN\n",
       "4448           2                          NaN\n",
       "5465           2                          NaN\n",
       "6696           2                          NaN\n",
       "6697           2                          NaN\n",
       "6792           2                          NaN"
      ]
     },
     "execution_count": 1063,
     "metadata": {},
     "output_type": "execute_result"
    }
   ],
   "source": [
    "df.loc[df.WorkConfinementsSecondAdult.isna(), ['LivingUnit', 'WorkConfinementsSecondAdult']]"
   ]
  },
  {
   "cell_type": "code",
   "execution_count": 1064,
   "metadata": {},
   "outputs": [],
   "source": [
    "df = df.loc[df.WorkConfinementsSecondAdult.isna() == False, :]"
   ]
  },
  {
   "cell_type": "markdown",
   "metadata": {},
   "source": [
    "---"
   ]
  },
  {
   "cell_type": "markdown",
   "metadata": {},
   "source": [
    "### nan values of '**WorkloadChange**' column"
   ]
  },
  {
   "cell_type": "code",
   "execution_count": 1065,
   "metadata": {},
   "outputs": [],
   "source": [
    "df = df.loc[df.WorkloadChange.isna() == False, :]"
   ]
  },
  {
   "cell_type": "markdown",
   "metadata": {},
   "source": [
    "---"
   ]
  },
  {
   "cell_type": "markdown",
   "metadata": {},
   "source": [
    "### nan values of '**HouseworkMore**' column"
   ]
  },
  {
   "cell_type": "code",
   "execution_count": 1066,
   "metadata": {},
   "outputs": [],
   "source": [
    "df = df.loc[df.HouseworkMore.isna() == False, :]"
   ]
  },
  {
   "cell_type": "markdown",
   "metadata": {},
   "source": [
    "---"
   ]
  },
  {
   "cell_type": "markdown",
   "metadata": {},
   "source": [
    "### nan values of '**Sleep**' column\n",
    "- If '**Tired**' value is 1 OR 2 (\"**Maybe**\" OR \"**Yes**\") then '**Sleep**' value is set to 2 (\"**Less than before**\")"
   ]
  },
  {
   "cell_type": "code",
   "execution_count": 1067,
   "metadata": {},
   "outputs": [],
   "source": [
    "Sleep_mode = df.Sleep.mode()[0]\n",
    "mask_index = df.Sleep.isna() & ((df.Tired == 1) | (df.Tired == 2))\n",
    "\n",
    "df.loc[mask_index, ['Sleep']] = Sleep_mode"
   ]
  },
  {
   "cell_type": "markdown",
   "metadata": {},
   "source": [
    "The remaining istances are dropped"
   ]
  },
  {
   "cell_type": "code",
   "execution_count": 1068,
   "metadata": {},
   "outputs": [],
   "source": [
    "df = df.loc[df.Sleep.isna() == False, :]"
   ]
  },
  {
   "cell_type": "markdown",
   "metadata": {},
   "source": [
    "---"
   ]
  },
  {
   "cell_type": "markdown",
   "metadata": {},
   "source": [
    "### nan values of '**DomesticHelp**' column\n",
    "- Replace all the missing values with meddle values such as \"**I prefer not to answer**\""
   ]
  },
  {
   "cell_type": "code",
   "execution_count": 1069,
   "metadata": {},
   "outputs": [
    {
     "name": "stdout",
     "output_type": "stream",
     "text": [
      "There are 3 NaN values\n"
     ]
    }
   ],
   "source": [
    "na_val_count = df.DomesticHelp.isna().sum()\n",
    "print(f\"There are {na_val_count} NaN values\")"
   ]
  },
  {
   "cell_type": "code",
   "execution_count": 1070,
   "metadata": {},
   "outputs": [],
   "source": [
    "df.loc[df.DomesticHelp.isna(), 'DomesticHelp'] = 2"
   ]
  },
  {
   "cell_type": "markdown",
   "metadata": {},
   "source": [
    "---"
   ]
  },
  {
   "cell_type": "markdown",
   "metadata": {},
   "source": [
    "### nan values of '**FamiliesCollaboration**' column\n",
    "- Replace all the missing values with meddle values such as \"**I don't know**\""
   ]
  },
  {
   "cell_type": "code",
   "execution_count": 1071,
   "metadata": {},
   "outputs": [
    {
     "name": "stdout",
     "output_type": "stream",
     "text": [
      "There are 13 NaN values\n"
     ]
    }
   ],
   "source": [
    "na_val_count = df.FamiliesCollaboration.isna().sum()\n",
    "print(f\"There are {na_val_count} NaN values\")"
   ]
  },
  {
   "cell_type": "code",
   "execution_count": 1072,
   "metadata": {},
   "outputs": [],
   "source": [
    "df.loc[df.FamiliesCollaboration.isna(), 'FamiliesCollaboration'] = 2"
   ]
  },
  {
   "cell_type": "markdown",
   "metadata": {},
   "source": [
    "---"
   ]
  },
  {
   "cell_type": "markdown",
   "metadata": {},
   "source": [
    "### nan values of '**PositiveImpact**' column\n",
    "- The pattern of the next questions is \"If yes, then answere....\", so if at least one of the next questions values is 1 (**yes**)  then  '**PositiveImpact**' is set to 2 (\"**yes**\")"
   ]
  },
  {
   "cell_type": "code",
   "execution_count": 1073,
   "metadata": {},
   "outputs": [
    {
     "data": {
      "text/html": [
       "<div>\n",
       "<style scoped>\n",
       "    .dataframe tbody tr th:only-of-type {\n",
       "        vertical-align: middle;\n",
       "    }\n",
       "\n",
       "    .dataframe tbody tr th {\n",
       "        vertical-align: top;\n",
       "    }\n",
       "\n",
       "    .dataframe thead th {\n",
       "        text-align: right;\n",
       "    }\n",
       "</style>\n",
       "<table border=\"1\" class=\"dataframe\">\n",
       "  <thead>\n",
       "    <tr style=\"text-align: right;\">\n",
       "      <th></th>\n",
       "      <th>PositiveImpact</th>\n",
       "      <th>Adaptarion</th>\n",
       "      <th>Bonding</th>\n",
       "      <th>TastesAndAbilities</th>\n",
       "      <th>Responsability</th>\n",
       "      <th>Understanding</th>\n",
       "      <th>BondingNeighbours</th>\n",
       "    </tr>\n",
       "  </thead>\n",
       "  <tbody>\n",
       "    <tr>\n",
       "      <th>622</th>\n",
       "      <td>NaN</td>\n",
       "      <td>1</td>\n",
       "      <td>1</td>\n",
       "      <td>0</td>\n",
       "      <td>1</td>\n",
       "      <td>0</td>\n",
       "      <td>1</td>\n",
       "    </tr>\n",
       "    <tr>\n",
       "      <th>2207</th>\n",
       "      <td>NaN</td>\n",
       "      <td>1</td>\n",
       "      <td>1</td>\n",
       "      <td>1</td>\n",
       "      <td>0</td>\n",
       "      <td>0</td>\n",
       "      <td>0</td>\n",
       "    </tr>\n",
       "    <tr>\n",
       "      <th>4067</th>\n",
       "      <td>NaN</td>\n",
       "      <td>0</td>\n",
       "      <td>1</td>\n",
       "      <td>0</td>\n",
       "      <td>0</td>\n",
       "      <td>0</td>\n",
       "      <td>0</td>\n",
       "    </tr>\n",
       "    <tr>\n",
       "      <th>6549</th>\n",
       "      <td>NaN</td>\n",
       "      <td>0</td>\n",
       "      <td>1</td>\n",
       "      <td>1</td>\n",
       "      <td>0</td>\n",
       "      <td>1</td>\n",
       "      <td>0</td>\n",
       "    </tr>\n",
       "    <tr>\n",
       "      <th>6551</th>\n",
       "      <td>NaN</td>\n",
       "      <td>0</td>\n",
       "      <td>1</td>\n",
       "      <td>1</td>\n",
       "      <td>0</td>\n",
       "      <td>1</td>\n",
       "      <td>0</td>\n",
       "    </tr>\n",
       "    <tr>\n",
       "      <th>7281</th>\n",
       "      <td>NaN</td>\n",
       "      <td>0</td>\n",
       "      <td>1</td>\n",
       "      <td>0</td>\n",
       "      <td>0</td>\n",
       "      <td>0</td>\n",
       "      <td>0</td>\n",
       "    </tr>\n",
       "  </tbody>\n",
       "</table>\n",
       "</div>"
      ],
      "text/plain": [
       "      PositiveImpact  Adaptarion  Bonding  TastesAndAbilities  Responsability  \\\n",
       "622              NaN           1        1                   0               1   \n",
       "2207             NaN           1        1                   1               0   \n",
       "4067             NaN           0        1                   0               0   \n",
       "6549             NaN           0        1                   1               0   \n",
       "6551             NaN           0        1                   1               0   \n",
       "7281             NaN           0        1                   0               0   \n",
       "\n",
       "      Understanding  BondingNeighbours  \n",
       "622               0                  1  \n",
       "2207              0                  0  \n",
       "4067              0                  0  \n",
       "6549              1                  0  \n",
       "6551              1                  0  \n",
       "7281              0                  0  "
      ]
     },
     "execution_count": 1073,
     "metadata": {},
     "output_type": "execute_result"
    }
   ],
   "source": [
    "mask_index = df.PositiveImpact.isna() & ((df.Adaptarion==1) | (df.Bonding==1) | (df.TastesAndAbilities==1) | (df.Responsability==1) | (df.Understanding==1) | (df.BondingNeighbours==1))\n",
    "df.loc[mask_index, ['PositiveImpact', 'Adaptarion', 'Bonding', 'TastesAndAbilities', 'Responsability', 'Understanding', 'BondingNeighbours']]"
   ]
  },
  {
   "cell_type": "code",
   "execution_count": 1074,
   "metadata": {},
   "outputs": [],
   "source": [
    "df.loc[mask_index, ['PositiveImpact']] = df.PositiveImpact.mode()[0]"
   ]
  },
  {
   "cell_type": "markdown",
   "metadata": {},
   "source": [
    "---"
   ]
  },
  {
   "cell_type": "markdown",
   "metadata": {},
   "source": [
    "### nan values of '**InterruptChildren**' and '**InterruptChildrenFrequency**' columns\n",
    "The pattern of the next questions is \"If yes, then answere....\", so \n",
    "\n",
    "To start missing values of 'InterruptChildrenFrequency' are set to 0, then\n",
    "- if **InterruptChildrenFrequency** values **>** 0 (**nan**)  then  '**InterruptChildren**' is set to 1 (\"**yes**\")  \n",
    "- else drop istance"
   ]
  },
  {
   "cell_type": "code",
   "execution_count": 1075,
   "metadata": {},
   "outputs": [],
   "source": [
    "# Assign 1  where 'InterruptChildren' is NaN and 'InterruptChildrenFrequency' si not\n",
    "df.loc[ (df.InterruptChildrenFrequency.isna() == False) & df.InterruptChildren.isna(), ['InterruptChildren']] = 1"
   ]
  },
  {
   "cell_type": "code",
   "execution_count": 1076,
   "metadata": {},
   "outputs": [],
   "source": [
    "# Drop if 'InterruptChildren' and 'InterruptChildrenFrequency' are NaN\n",
    "df = df.loc[ (df.InterruptChildrenFrequency.isna() == False) | (df.InterruptChildren.isna() == False), :]"
   ]
  },
  {
   "cell_type": "markdown",
   "metadata": {},
   "source": [
    "#### Note:\n",
    "Most of missing values are due to the fact that the respondents replied 'False' to the question 'Interrupted working day to take care of children?'"
   ]
  },
  {
   "cell_type": "code",
   "execution_count": 1077,
   "metadata": {},
   "outputs": [
    {
     "name": "stdout",
     "output_type": "stream",
     "text": [
      "There are 1547 missing values in 'InterruptChildrenFrequency' column\n"
     ]
    }
   ],
   "source": [
    "na_val_count = df.InterruptChildrenFrequency.isna().sum()\n",
    "print(f\"There are {na_val_count} missing values in 'InterruptChildrenFrequency' column\")"
   ]
  },
  {
   "cell_type": "code",
   "execution_count": 1078,
   "metadata": {},
   "outputs": [],
   "source": [
    "# Assign 0 where 'InterruptChildrenFrequency' is NaN\n",
    "df.loc[df.InterruptChildrenFrequency.isna(), 'InterruptChildrenFrequency'] = 0"
   ]
  },
  {
   "cell_type": "markdown",
   "metadata": {},
   "source": [
    "#### TODO"
   ]
  },
  {
   "cell_type": "code",
   "execution_count": 1079,
   "metadata": {},
   "outputs": [
    {
     "data": {
      "text/plain": [
       "InterruptChildrenFrequency\n",
       "1.0    79\n",
       "3.0    22\n",
       "2.0    22\n",
       "Name: count, dtype: int64"
      ]
     },
     "execution_count": 1079,
     "metadata": {},
     "output_type": "execute_result"
    }
   ],
   "source": [
    "# ?????????????????????????????????? THIS ISN'T POSSIBLE\n",
    "df.loc[ (df.InterruptChildren == 0) & (df.InterruptChildrenFrequency > 0), 'InterruptChildrenFrequency'].value_counts()"
   ]
  },
  {
   "cell_type": "markdown",
   "metadata": {},
   "source": [
    "---"
   ]
  },
  {
   "cell_type": "markdown",
   "metadata": {},
   "source": [
    "### nan values of '**NegativeImpact**' column\n",
    "The pattern of the next questions is \"If yes, then answere...\", so \n",
    "- if at least one of the next questions values is 1 (**yes**)  then  '**NegativeImpact**' is set to 2 (\"**yes**\")"
   ]
  },
  {
   "cell_type": "code",
   "execution_count": 1080,
   "metadata": {},
   "outputs": [
    {
     "data": {
      "text/plain": [
       "np.int64(20)"
      ]
     },
     "execution_count": 1080,
     "metadata": {},
     "output_type": "execute_result"
    }
   ],
   "source": [
    "df.NegativeImpact.isna().sum()"
   ]
  },
  {
   "cell_type": "code",
   "execution_count": 1081,
   "metadata": {},
   "outputs": [
    {
     "name": "stdout",
     "output_type": "stream",
     "text": [
      "There are 16 NaN values in 'NegativeImpact' column \n",
      "This is the head:\n"
     ]
    },
    {
     "data": {
      "text/html": [
       "<div>\n",
       "<style scoped>\n",
       "    .dataframe tbody tr th:only-of-type {\n",
       "        vertical-align: middle;\n",
       "    }\n",
       "\n",
       "    .dataframe tbody tr th {\n",
       "        vertical-align: top;\n",
       "    }\n",
       "\n",
       "    .dataframe thead th {\n",
       "        text-align: right;\n",
       "    }\n",
       "</style>\n",
       "<table border=\"1\" class=\"dataframe\">\n",
       "  <thead>\n",
       "    <tr style=\"text-align: right;\">\n",
       "      <th></th>\n",
       "      <th>NegativeImpact</th>\n",
       "      <th>Anxiety</th>\n",
       "      <th>Loneliness</th>\n",
       "      <th>Sadness</th>\n",
       "      <th>LossFamilyMember</th>\n",
       "      <th>FinancialLoss</th>\n",
       "      <th>Arguments</th>\n",
       "      <th>AlcoholMedicationDrug</th>\n",
       "      <th>TechnologyUse</th>\n",
       "      <th>NegativeImpactOther</th>\n",
       "    </tr>\n",
       "  </thead>\n",
       "  <tbody>\n",
       "    <tr>\n",
       "      <th>407</th>\n",
       "      <td>NaN</td>\n",
       "      <td>1</td>\n",
       "      <td>1</td>\n",
       "      <td>1</td>\n",
       "      <td>0</td>\n",
       "      <td>0</td>\n",
       "      <td>0</td>\n",
       "      <td>0</td>\n",
       "      <td>0</td>\n",
       "      <td>0</td>\n",
       "    </tr>\n",
       "    <tr>\n",
       "      <th>1648</th>\n",
       "      <td>NaN</td>\n",
       "      <td>1</td>\n",
       "      <td>0</td>\n",
       "      <td>0</td>\n",
       "      <td>0</td>\n",
       "      <td>0</td>\n",
       "      <td>1</td>\n",
       "      <td>0</td>\n",
       "      <td>1</td>\n",
       "      <td>0</td>\n",
       "    </tr>\n",
       "    <tr>\n",
       "      <th>1853</th>\n",
       "      <td>NaN</td>\n",
       "      <td>1</td>\n",
       "      <td>1</td>\n",
       "      <td>1</td>\n",
       "      <td>0</td>\n",
       "      <td>0</td>\n",
       "      <td>0</td>\n",
       "      <td>0</td>\n",
       "      <td>1</td>\n",
       "      <td>0</td>\n",
       "    </tr>\n",
       "    <tr>\n",
       "      <th>2311</th>\n",
       "      <td>NaN</td>\n",
       "      <td>0</td>\n",
       "      <td>0</td>\n",
       "      <td>0</td>\n",
       "      <td>0</td>\n",
       "      <td>0</td>\n",
       "      <td>0</td>\n",
       "      <td>0</td>\n",
       "      <td>1</td>\n",
       "      <td>0</td>\n",
       "    </tr>\n",
       "    <tr>\n",
       "      <th>3159</th>\n",
       "      <td>NaN</td>\n",
       "      <td>1</td>\n",
       "      <td>0</td>\n",
       "      <td>1</td>\n",
       "      <td>1</td>\n",
       "      <td>0</td>\n",
       "      <td>0</td>\n",
       "      <td>0</td>\n",
       "      <td>1</td>\n",
       "      <td>0</td>\n",
       "    </tr>\n",
       "  </tbody>\n",
       "</table>\n",
       "</div>"
      ],
      "text/plain": [
       "      NegativeImpact  Anxiety  Loneliness  Sadness  LossFamilyMember  \\\n",
       "407              NaN        1           1        1                 0   \n",
       "1648             NaN        1           0        0                 0   \n",
       "1853             NaN        1           1        1                 0   \n",
       "2311             NaN        0           0        0                 0   \n",
       "3159             NaN        1           0        1                 1   \n",
       "\n",
       "      FinancialLoss  Arguments  AlcoholMedicationDrug  TechnologyUse  \\\n",
       "407               0          0                      0              0   \n",
       "1648              0          1                      0              1   \n",
       "1853              0          0                      0              1   \n",
       "2311              0          0                      0              1   \n",
       "3159              0          0                      0              1   \n",
       "\n",
       "      NegativeImpactOther  \n",
       "407                     0  \n",
       "1648                    0  \n",
       "1853                    0  \n",
       "2311                    0  \n",
       "3159                    0  "
      ]
     },
     "execution_count": 1081,
     "metadata": {},
     "output_type": "execute_result"
    }
   ],
   "source": [
    "mask_index = df.NegativeImpact.isna() & ((df.Anxiety==1) | (df.TechnologyUse==1) | (df.Sadness==1) | (df.Arguments==1) | (df.FinancialLoss==1) | (df.Loneliness==1) | (df.LossFamilyMember==1) | (df.NegativeImpactOther==1) | (df.AlcoholMedicationDrug==1))\n",
    "\n",
    "print(f\"There are {(df.loc[mask_index]).shape[0]} NaN values in 'NegativeImpact' column \\nThis is the head:\")\n",
    "\n",
    "df.loc[mask_index, 'NegativeImpact' : 'NegativeImpactOther'].head()"
   ]
  },
  {
   "cell_type": "code",
   "execution_count": 1082,
   "metadata": {},
   "outputs": [],
   "source": [
    "df.loc[mask_index, 'NegativeImpact'] = df.NegativeImpact.mode()[0]"
   ]
  },
  {
   "cell_type": "markdown",
   "metadata": {},
   "source": [
    "Drop all the remaining instances with missing value"
   ]
  },
  {
   "cell_type": "code",
   "execution_count": 1083,
   "metadata": {},
   "outputs": [
    {
     "data": {
      "text/plain": [
       "3483   NaN\n",
       "4232   NaN\n",
       "4490   NaN\n",
       "4491   NaN\n",
       "Name: NegativeImpact, dtype: float64"
      ]
     },
     "execution_count": 1083,
     "metadata": {},
     "output_type": "execute_result"
    }
   ],
   "source": [
    "df.loc[df.NegativeImpact.isna(), 'NegativeImpact']"
   ]
  },
  {
   "cell_type": "code",
   "execution_count": 1084,
   "metadata": {},
   "outputs": [],
   "source": [
    "df = df.loc[df.NegativeImpact.isna() == False, :]"
   ]
  },
  {
   "cell_type": "markdown",
   "metadata": {},
   "source": [
    "---"
   ]
  },
  {
   "cell_type": "markdown",
   "metadata": {},
   "source": [
    "### nan values of '**FamiliesCollaboration**' column\n",
    "- Replace all the missing values with meddle values such as \"**I don't know**\""
   ]
  },
  {
   "cell_type": "code",
   "execution_count": 1085,
   "metadata": {},
   "outputs": [
    {
     "name": "stdout",
     "output_type": "stream",
     "text": [
      "There are 0 NaN values\n"
     ]
    }
   ],
   "source": [
    "na_val_count = df.FamiliesCollaboration.isna().sum()\n",
    "print(f\"There are {na_val_count} NaN values\")"
   ]
  },
  {
   "cell_type": "code",
   "execution_count": 1086,
   "metadata": {},
   "outputs": [],
   "source": [
    "df.loc[df.FamiliesCollaboration.isna(), 'FamiliesCollaboration'] = 2"
   ]
  },
  {
   "cell_type": "markdown",
   "metadata": {},
   "source": [
    "---"
   ]
  },
  {
   "cell_type": "markdown",
   "metadata": {},
   "source": [
    "### nan values of '**SchoolSpace**' column\n",
    "- Replace all the missing values with meddle values such as \"**Maybe**\""
   ]
  },
  {
   "cell_type": "code",
   "execution_count": 1087,
   "metadata": {},
   "outputs": [
    {
     "name": "stdout",
     "output_type": "stream",
     "text": [
      "There are 5 NaN values\n"
     ]
    }
   ],
   "source": [
    "na_val_count = df.SchoolSpace.isna().sum()\n",
    "print(f\"There are {na_val_count} NaN values\")"
   ]
  },
  {
   "cell_type": "code",
   "execution_count": 1088,
   "metadata": {},
   "outputs": [],
   "source": [
    "df.loc[df.SchoolSpace.isna(), 'SchoolSpace'] = 2"
   ]
  },
  {
   "cell_type": "markdown",
   "metadata": {},
   "source": [
    "---"
   ]
  },
  {
   "cell_type": "markdown",
   "metadata": {},
   "source": [
    "#### The filter of the na values\n",
    "\n",
    "At the end I remove all the istances with at least one NaN value"
   ]
  },
  {
   "cell_type": "code",
   "execution_count": 1089,
   "metadata": {},
   "outputs": [
    {
     "data": {
      "text/html": [
       "<div>\n",
       "<style scoped>\n",
       "    .dataframe tbody tr th:only-of-type {\n",
       "        vertical-align: middle;\n",
       "    }\n",
       "\n",
       "    .dataframe tbody tr th {\n",
       "        vertical-align: top;\n",
       "    }\n",
       "\n",
       "    .dataframe thead th {\n",
       "        text-align: right;\n",
       "    }\n",
       "</style>\n",
       "<table border=\"1\" class=\"dataframe\">\n",
       "  <thead>\n",
       "    <tr style=\"text-align: right;\">\n",
       "      <th></th>\n",
       "      <th>Gender</th>\n",
       "      <th>Leisure</th>\n",
       "      <th>Sports</th>\n",
       "      <th>Friends</th>\n",
       "      <th>ExtendedFamily</th>\n",
       "      <th>Past</th>\n",
       "      <th>Future</th>\n",
       "      <th>Sex</th>\n",
       "      <th>Reconciling</th>\n",
       "      <th>TimeOff</th>\n",
       "      <th>ChildrenSchookwork</th>\n",
       "      <th>Bedtime</th>\n",
       "      <th>HelpOnline</th>\n",
       "      <th>SchoolCommunication</th>\n",
       "      <th>ParentsGroups</th>\n",
       "      <th>ParentsCommunicationReturn</th>\n",
       "      <th>ActivitiesOutside</th>\n",
       "    </tr>\n",
       "  </thead>\n",
       "  <tbody>\n",
       "    <tr>\n",
       "      <th>1</th>\n",
       "      <td>2.0</td>\n",
       "      <td>3.0</td>\n",
       "      <td>1.0</td>\n",
       "      <td>1.0</td>\n",
       "      <td>4.0</td>\n",
       "      <td>3.0</td>\n",
       "      <td>3.0</td>\n",
       "      <td>3.0</td>\n",
       "      <td>2.0</td>\n",
       "      <td>1.0</td>\n",
       "      <td>NaN</td>\n",
       "      <td>0.0</td>\n",
       "      <td>3.0</td>\n",
       "      <td>4.0</td>\n",
       "      <td>4.0</td>\n",
       "      <td>2.0</td>\n",
       "      <td>2.0</td>\n",
       "    </tr>\n",
       "    <tr>\n",
       "      <th>3</th>\n",
       "      <td>2.0</td>\n",
       "      <td>4.0</td>\n",
       "      <td>3.0</td>\n",
       "      <td>2.0</td>\n",
       "      <td>2.0</td>\n",
       "      <td>4.0</td>\n",
       "      <td>1.0</td>\n",
       "      <td>NaN</td>\n",
       "      <td>2.0</td>\n",
       "      <td>0.0</td>\n",
       "      <td>2.0</td>\n",
       "      <td>1.0</td>\n",
       "      <td>3.0</td>\n",
       "      <td>2.0</td>\n",
       "      <td>3.0</td>\n",
       "      <td>2.0</td>\n",
       "      <td>3.0</td>\n",
       "    </tr>\n",
       "    <tr>\n",
       "      <th>139</th>\n",
       "      <td>1.0</td>\n",
       "      <td>2.0</td>\n",
       "      <td>2.0</td>\n",
       "      <td>2.0</td>\n",
       "      <td>4.0</td>\n",
       "      <td>4.0</td>\n",
       "      <td>3.0</td>\n",
       "      <td>3.0</td>\n",
       "      <td>1.0</td>\n",
       "      <td>0.0</td>\n",
       "      <td>NaN</td>\n",
       "      <td>1.0</td>\n",
       "      <td>3.0</td>\n",
       "      <td>1.0</td>\n",
       "      <td>3.0</td>\n",
       "      <td>1.0</td>\n",
       "      <td>2.0</td>\n",
       "    </tr>\n",
       "    <tr>\n",
       "      <th>142</th>\n",
       "      <td>2.0</td>\n",
       "      <td>1.0</td>\n",
       "      <td>1.0</td>\n",
       "      <td>4.0</td>\n",
       "      <td>4.0</td>\n",
       "      <td>3.0</td>\n",
       "      <td>4.0</td>\n",
       "      <td>3.0</td>\n",
       "      <td>2.0</td>\n",
       "      <td>0.0</td>\n",
       "      <td>NaN</td>\n",
       "      <td>1.0</td>\n",
       "      <td>1.0</td>\n",
       "      <td>2.0</td>\n",
       "      <td>2.0</td>\n",
       "      <td>1.0</td>\n",
       "      <td>3.0</td>\n",
       "    </tr>\n",
       "    <tr>\n",
       "      <th>220</th>\n",
       "      <td>2.0</td>\n",
       "      <td>1.0</td>\n",
       "      <td>1.0</td>\n",
       "      <td>2.0</td>\n",
       "      <td>1.0</td>\n",
       "      <td>4.0</td>\n",
       "      <td>4.0</td>\n",
       "      <td>2.0</td>\n",
       "      <td>2.0</td>\n",
       "      <td>0.0</td>\n",
       "      <td>2.0</td>\n",
       "      <td>1.0</td>\n",
       "      <td>2.0</td>\n",
       "      <td>2.0</td>\n",
       "      <td>3.0</td>\n",
       "      <td>2.0</td>\n",
       "      <td>NaN</td>\n",
       "    </tr>\n",
       "    <tr>\n",
       "      <th>...</th>\n",
       "      <td>...</td>\n",
       "      <td>...</td>\n",
       "      <td>...</td>\n",
       "      <td>...</td>\n",
       "      <td>...</td>\n",
       "      <td>...</td>\n",
       "      <td>...</td>\n",
       "      <td>...</td>\n",
       "      <td>...</td>\n",
       "      <td>...</td>\n",
       "      <td>...</td>\n",
       "      <td>...</td>\n",
       "      <td>...</td>\n",
       "      <td>...</td>\n",
       "      <td>...</td>\n",
       "      <td>...</td>\n",
       "      <td>...</td>\n",
       "    </tr>\n",
       "    <tr>\n",
       "      <th>7189</th>\n",
       "      <td>2.0</td>\n",
       "      <td>2.0</td>\n",
       "      <td>2.0</td>\n",
       "      <td>2.0</td>\n",
       "      <td>3.0</td>\n",
       "      <td>4.0</td>\n",
       "      <td>3.0</td>\n",
       "      <td>3.0</td>\n",
       "      <td>2.0</td>\n",
       "      <td>0.0</td>\n",
       "      <td>2.0</td>\n",
       "      <td>0.0</td>\n",
       "      <td>NaN</td>\n",
       "      <td>2.0</td>\n",
       "      <td>1.0</td>\n",
       "      <td>2.0</td>\n",
       "      <td>3.0</td>\n",
       "    </tr>\n",
       "    <tr>\n",
       "      <th>7204</th>\n",
       "      <td>2.0</td>\n",
       "      <td>2.0</td>\n",
       "      <td>1.0</td>\n",
       "      <td>2.0</td>\n",
       "      <td>3.0</td>\n",
       "      <td>4.0</td>\n",
       "      <td>3.0</td>\n",
       "      <td>3.0</td>\n",
       "      <td>2.0</td>\n",
       "      <td>0.0</td>\n",
       "      <td>NaN</td>\n",
       "      <td>1.0</td>\n",
       "      <td>4.0</td>\n",
       "      <td>1.0</td>\n",
       "      <td>1.0</td>\n",
       "      <td>2.0</td>\n",
       "      <td>1.0</td>\n",
       "    </tr>\n",
       "    <tr>\n",
       "      <th>7210</th>\n",
       "      <td>2.0</td>\n",
       "      <td>3.0</td>\n",
       "      <td>4.0</td>\n",
       "      <td>NaN</td>\n",
       "      <td>4.0</td>\n",
       "      <td>3.0</td>\n",
       "      <td>1.0</td>\n",
       "      <td>3.0</td>\n",
       "      <td>2.0</td>\n",
       "      <td>1.0</td>\n",
       "      <td>3.0</td>\n",
       "      <td>0.0</td>\n",
       "      <td>4.0</td>\n",
       "      <td>2.0</td>\n",
       "      <td>3.0</td>\n",
       "      <td>1.0</td>\n",
       "      <td>3.0</td>\n",
       "    </tr>\n",
       "    <tr>\n",
       "      <th>7262</th>\n",
       "      <td>2.0</td>\n",
       "      <td>1.0</td>\n",
       "      <td>1.0</td>\n",
       "      <td>2.0</td>\n",
       "      <td>2.0</td>\n",
       "      <td>3.0</td>\n",
       "      <td>3.0</td>\n",
       "      <td>2.0</td>\n",
       "      <td>2.0</td>\n",
       "      <td>0.0</td>\n",
       "      <td>3.0</td>\n",
       "      <td>1.0</td>\n",
       "      <td>NaN</td>\n",
       "      <td>1.0</td>\n",
       "      <td>1.0</td>\n",
       "      <td>3.0</td>\n",
       "      <td>2.0</td>\n",
       "    </tr>\n",
       "    <tr>\n",
       "      <th>7295</th>\n",
       "      <td>2.0</td>\n",
       "      <td>1.0</td>\n",
       "      <td>4.0</td>\n",
       "      <td>4.0</td>\n",
       "      <td>4.0</td>\n",
       "      <td>4.0</td>\n",
       "      <td>2.0</td>\n",
       "      <td>3.0</td>\n",
       "      <td>2.0</td>\n",
       "      <td>0.0</td>\n",
       "      <td>NaN</td>\n",
       "      <td>1.0</td>\n",
       "      <td>4.0</td>\n",
       "      <td>2.0</td>\n",
       "      <td>3.0</td>\n",
       "      <td>2.0</td>\n",
       "      <td>3.0</td>\n",
       "    </tr>\n",
       "  </tbody>\n",
       "</table>\n",
       "<p>270 rows × 17 columns</p>\n",
       "</div>"
      ],
      "text/plain": [
       "      Gender  Leisure  Sports  Friends  ExtendedFamily  Past  Future  Sex  \\\n",
       "1        2.0      3.0     1.0      1.0             4.0   3.0     3.0  3.0   \n",
       "3        2.0      4.0     3.0      2.0             2.0   4.0     1.0  NaN   \n",
       "139      1.0      2.0     2.0      2.0             4.0   4.0     3.0  3.0   \n",
       "142      2.0      1.0     1.0      4.0             4.0   3.0     4.0  3.0   \n",
       "220      2.0      1.0     1.0      2.0             1.0   4.0     4.0  2.0   \n",
       "...      ...      ...     ...      ...             ...   ...     ...  ...   \n",
       "7189     2.0      2.0     2.0      2.0             3.0   4.0     3.0  3.0   \n",
       "7204     2.0      2.0     1.0      2.0             3.0   4.0     3.0  3.0   \n",
       "7210     2.0      3.0     4.0      NaN             4.0   3.0     1.0  3.0   \n",
       "7262     2.0      1.0     1.0      2.0             2.0   3.0     3.0  2.0   \n",
       "7295     2.0      1.0     4.0      4.0             4.0   4.0     2.0  3.0   \n",
       "\n",
       "      Reconciling  TimeOff  ChildrenSchookwork  Bedtime  HelpOnline  \\\n",
       "1             2.0      1.0                 NaN      0.0         3.0   \n",
       "3             2.0      0.0                 2.0      1.0         3.0   \n",
       "139           1.0      0.0                 NaN      1.0         3.0   \n",
       "142           2.0      0.0                 NaN      1.0         1.0   \n",
       "220           2.0      0.0                 2.0      1.0         2.0   \n",
       "...           ...      ...                 ...      ...         ...   \n",
       "7189          2.0      0.0                 2.0      0.0         NaN   \n",
       "7204          2.0      0.0                 NaN      1.0         4.0   \n",
       "7210          2.0      1.0                 3.0      0.0         4.0   \n",
       "7262          2.0      0.0                 3.0      1.0         NaN   \n",
       "7295          2.0      0.0                 NaN      1.0         4.0   \n",
       "\n",
       "      SchoolCommunication  ParentsGroups  ParentsCommunicationReturn  \\\n",
       "1                     4.0            4.0                         2.0   \n",
       "3                     2.0            3.0                         2.0   \n",
       "139                   1.0            3.0                         1.0   \n",
       "142                   2.0            2.0                         1.0   \n",
       "220                   2.0            3.0                         2.0   \n",
       "...                   ...            ...                         ...   \n",
       "7189                  2.0            1.0                         2.0   \n",
       "7204                  1.0            1.0                         2.0   \n",
       "7210                  2.0            3.0                         1.0   \n",
       "7262                  1.0            1.0                         3.0   \n",
       "7295                  2.0            3.0                         2.0   \n",
       "\n",
       "      ActivitiesOutside  \n",
       "1                   2.0  \n",
       "3                   3.0  \n",
       "139                 2.0  \n",
       "142                 3.0  \n",
       "220                 NaN  \n",
       "...                 ...  \n",
       "7189                3.0  \n",
       "7204                1.0  \n",
       "7210                3.0  \n",
       "7262                2.0  \n",
       "7295                3.0  \n",
       "\n",
       "[270 rows x 17 columns]"
      ]
     },
     "execution_count": 1089,
     "metadata": {},
     "output_type": "execute_result"
    }
   ],
   "source": [
    "# Columns with a least one nan value\n",
    "na_columns = df.columns[df.isna().any()]\n",
    "\n",
    "na_columns = na_columns.drop(\"Income\")\n",
    "\n",
    "# rows with a least one N nan value\n",
    "na_rows = df[na_columns].isna().sum(axis=1) >= 1\n",
    "\n",
    "df_lessToManyNa = df.loc[na_rows, na_columns]\n",
    "df_lessToManyNa\n"
   ]
  },
  {
   "cell_type": "code",
   "execution_count": 1090,
   "metadata": {},
   "outputs": [],
   "source": [
    "index = [i for i in np.array(df.index) if i not in df_lessToManyNa.index]\n",
    "\n",
    "df = df.loc[index, :]"
   ]
  },
  {
   "cell_type": "code",
   "execution_count": 1095,
   "metadata": {},
   "outputs": [
    {
     "data": {
      "text/plain": [
       "(6016, 109)"
      ]
     },
     "execution_count": 1095,
     "metadata": {},
     "output_type": "execute_result"
    }
   ],
   "source": [
    "df.shape"
   ]
  },
  {
   "cell_type": "markdown",
   "metadata": {},
   "source": [
    "## FILE SAVING"
   ]
  },
  {
   "cell_type": "code",
   "execution_count": 1110,
   "metadata": {},
   "outputs": [],
   "source": [
    "df.to_csv(path_or_buf=\"./Array_saved/X_without_null.csv\", index=False)"
   ]
  }
 ],
 "metadata": {
  "kernelspec": {
   "display_name": "DataMiningEnv",
   "language": "python",
   "name": "python3"
  },
  "language_info": {
   "codemirror_mode": {
    "name": "ipython",
    "version": 3
   },
   "file_extension": ".py",
   "mimetype": "text/x-python",
   "name": "python",
   "nbconvert_exporter": "python",
   "pygments_lexer": "ipython3",
   "version": "3.12.2"
  }
 },
 "nbformat": 4,
 "nbformat_minor": 2
}
