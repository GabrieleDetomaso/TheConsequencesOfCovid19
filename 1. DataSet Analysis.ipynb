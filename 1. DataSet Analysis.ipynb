{
 "cells": [
  {
   "cell_type": "markdown",
   "metadata": {},
   "source": [
    "# Data cleaning & Dataset analysis"
   ]
  },
  {
   "cell_type": "code",
   "execution_count": 167,
   "metadata": {},
   "outputs": [],
   "source": [
    "import numpy as np\n",
    "import pandas as pd"
   ]
  },
  {
   "cell_type": "code",
   "execution_count": 168,
   "metadata": {},
   "outputs": [],
   "source": [
    "df = pd.read_csv(\"./Documents/COVID_for_families.csv\")"
   ]
  },
  {
   "cell_type": "code",
   "execution_count": 169,
   "metadata": {},
   "outputs": [
    {
     "data": {
      "text/plain": [
       "(7305, 119)"
      ]
     },
     "execution_count": 169,
     "metadata": {},
     "output_type": "execute_result"
    }
   ],
   "source": [
    "df.shape"
   ]
  },
  {
   "cell_type": "markdown",
   "metadata": {},
   "source": [
    "Column names"
   ]
  },
  {
   "cell_type": "code",
   "execution_count": 170,
   "metadata": {},
   "outputs": [
    {
     "name": "stdout",
     "output_type": "stream",
     "text": [
      "ID\n",
      "TemporaryMark\n",
      "Gender\n",
      "AutonomousCommunity\n",
      "SchoolOwnership\n",
      "Pond\n",
      "PondMax3\n",
      "KindOfPlace\n",
      "Income\n",
      "LivingUnit\n",
      "DependentPersons\n",
      "WorkConfinement\n",
      "WorkConfinementsSecondAdult\n",
      "ChildEarlyEducation1\n",
      "ChildEarlyEducation2\n",
      "ChildPrimaryEducation\n",
      "ChildSecondaryEducation\n",
      "ChildBaccaleaurate\n",
      "ChildVocationalTraining\n",
      "ChildrenSpecialNeeds\n",
      "WorkloadChange\n",
      "HouseworkMore\n",
      "Sleep\n",
      "Leisure\n",
      "Sports\n",
      "Friends\n",
      "ExtendedFamily\n",
      "Past\n",
      "Future\n",
      "Sex\n",
      "Reconciling\n",
      "DomesticHelp\n",
      "Tired\n",
      "TimeOff\n",
      "InterruptChildren\n",
      "InterruptChildrenFrequency\n",
      "ChildrenSchookwork\n",
      "ShareElectronicDevices\n",
      "Bedtime\n",
      "PositiveImpact\n",
      "Bonding\n",
      "BondingNeighbours\n",
      "TastesAndAbilities\n",
      "Responsability\n",
      "Adaptarion\n",
      "Understanding\n",
      "NegativeImpact\n",
      "Anxiety\n",
      "Loneliness\n",
      "Sadness\n",
      "LossFamilyMember\n",
      "FinancialLoss\n",
      "Arguments\n",
      "AlcoholMedicationDrug\n",
      "TechnologyUse\n",
      "NegativeImpactOther\n",
      "NegativeImpactNoanswer\n",
      "ChildPhysicalActivity\n",
      "ChildScreens\n",
      "ChildSleep\n",
      "ChildDiet\n",
      "ChildFear\n",
      "ChildFrustation\n",
      "Irritability\n",
      "Boredom\n",
      "ChildFake\n",
      "ChildIFriends\n",
      "ChildFriendship\n",
      "ChildSpace\n",
      "ChildIntrospection\n",
      "ChildLeavingHome\n",
      "ChildNoVariation\n",
      "ChildNoAnswers\n",
      "ChildMissExercise\n",
      "ChildMissFriends\n",
      "ChildMissExperience\n",
      "ChildMissContents\n",
      "ChildMissGroup\n",
      "ChildMissExam\n",
      "ChildMissTeacher\n",
      "HelpOnline\n",
      "SchoolCommunication\n",
      "ParentsGroups\n",
      "ParentsCommunicationReturn\n",
      "SchoolFees\n",
      "ChallengeContent\n",
      "ChallengeMonitoring\n",
      "ChallengeEmotionalSupport\n",
      "ChallengeNeeds\n",
      "ChallengeEvaluation\n",
      "ChallengeCommunication\n",
      "ChallengeOnline\n",
      "ChallengeEquipment\n",
      "ChallengeVulnerable\n",
      "ChallengeAny\n",
      "PriorityCustody\n",
      "PriorityContent\n",
      "PriorityAutonomy\n",
      "PrioritySocialisation\n",
      "PriorityEmotional\n",
      "FamiliesCollaboration\n",
      "SchoolSpace\n",
      "SpaceBarracks\n",
      "SpacePorch\n",
      "SpaceDining\n",
      "SpaceHall\n",
      "SpaceGym\n",
      "SpaceOther\n",
      "SpaceNone\n",
      "SpaceStreet\n",
      "SpacePlots\n",
      "SpaceParks\n",
      "SpacePublic\n",
      "SpaceSurroundingOther\n",
      "SpaceSurroundingNone\n",
      "ActivitiesOutside\n",
      "Selección\n",
      "filter_\n",
      "SchoolOwnership1\n"
     ]
    }
   ],
   "source": [
    "for name in df.columns:\n",
    "    print(name)"
   ]
  },
  {
   "cell_type": "markdown",
   "metadata": {},
   "source": [
    "## 1. Data Cleaning\n",
    "- Explore the dataset to detect missing values, outliers, and other necessary transformations\n",
    "- Describe the distribution of the main socio-demographic variables"
   ]
  },
  {
   "cell_type": "markdown",
   "metadata": {},
   "source": [
    "#### Preliminar filtering\n",
    "Before any processing, drop some columns which either have too many NaN values or are useless.  \n",
    "\n",
    "Don't remove all columns with at least one NaN value because they could be important columns for the analysis and the percentage of NaN values ​​for each column is very low (1% over all instances)."
   ]
  },
  {
   "cell_type": "code",
   "execution_count": 171,
   "metadata": {},
   "outputs": [],
   "source": [
    "drop_column_list = ['ID',\n",
    "                    'Income',\n",
    "                    'TemporaryMark', \n",
    "                    'Pond',\n",
    "                    'PondMax3', \n",
    "                    'ShareElectronicDevices', \n",
    "                    'NegativeImpactNoanswer', \n",
    "                    'SchoolFees', \n",
    "                    'Selección', \n",
    "                    'filter_', \n",
    "                    'SchoolOwnership1'\n",
    "                    ]\n",
    "\n",
    "df.drop(drop_column_list, axis=1, inplace=True)"
   ]
  },
  {
   "cell_type": "code",
   "execution_count": 172,
   "metadata": {},
   "outputs": [
    {
     "data": {
      "text/html": [
       "<div>\n",
       "<style scoped>\n",
       "    .dataframe tbody tr th:only-of-type {\n",
       "        vertical-align: middle;\n",
       "    }\n",
       "\n",
       "    .dataframe tbody tr th {\n",
       "        vertical-align: top;\n",
       "    }\n",
       "\n",
       "    .dataframe thead th {\n",
       "        text-align: right;\n",
       "    }\n",
       "</style>\n",
       "<table border=\"1\" class=\"dataframe\">\n",
       "  <thead>\n",
       "    <tr style=\"text-align: right;\">\n",
       "      <th></th>\n",
       "      <th>Gender</th>\n",
       "      <th>AutonomousCommunity</th>\n",
       "      <th>SchoolOwnership</th>\n",
       "      <th>KindOfPlace</th>\n",
       "      <th>LivingUnit</th>\n",
       "      <th>DependentPersons</th>\n",
       "      <th>WorkConfinement</th>\n",
       "      <th>WorkConfinementsSecondAdult</th>\n",
       "      <th>ChildEarlyEducation1</th>\n",
       "      <th>ChildEarlyEducation2</th>\n",
       "      <th>...</th>\n",
       "      <th>SpaceGym</th>\n",
       "      <th>SpaceOther</th>\n",
       "      <th>SpaceNone</th>\n",
       "      <th>SpaceStreet</th>\n",
       "      <th>SpacePlots</th>\n",
       "      <th>SpaceParks</th>\n",
       "      <th>SpacePublic</th>\n",
       "      <th>SpaceSurroundingOther</th>\n",
       "      <th>SpaceSurroundingNone</th>\n",
       "      <th>ActivitiesOutside</th>\n",
       "    </tr>\n",
       "  </thead>\n",
       "  <tbody>\n",
       "    <tr>\n",
       "      <th>0</th>\n",
       "      <td>NaN</td>\n",
       "      <td>PAIS VASCO</td>\n",
       "      <td>Público</td>\n",
       "      <td>2.0</td>\n",
       "      <td>2</td>\n",
       "      <td>0</td>\n",
       "      <td>1</td>\n",
       "      <td>1.0</td>\n",
       "      <td>1</td>\n",
       "      <td>0</td>\n",
       "      <td>...</td>\n",
       "      <td>0</td>\n",
       "      <td>0</td>\n",
       "      <td>0</td>\n",
       "      <td>0</td>\n",
       "      <td>0</td>\n",
       "      <td>0</td>\n",
       "      <td>1</td>\n",
       "      <td>0</td>\n",
       "      <td>0</td>\n",
       "      <td>2.0</td>\n",
       "    </tr>\n",
       "    <tr>\n",
       "      <th>1</th>\n",
       "      <td>2.0</td>\n",
       "      <td>PAIS VASCO</td>\n",
       "      <td>Público</td>\n",
       "      <td>2.0</td>\n",
       "      <td>2</td>\n",
       "      <td>0</td>\n",
       "      <td>1</td>\n",
       "      <td>0.0</td>\n",
       "      <td>1</td>\n",
       "      <td>0</td>\n",
       "      <td>...</td>\n",
       "      <td>0</td>\n",
       "      <td>0</td>\n",
       "      <td>0</td>\n",
       "      <td>1</td>\n",
       "      <td>0</td>\n",
       "      <td>1</td>\n",
       "      <td>1</td>\n",
       "      <td>0</td>\n",
       "      <td>0</td>\n",
       "      <td>2.0</td>\n",
       "    </tr>\n",
       "    <tr>\n",
       "      <th>2</th>\n",
       "      <td>2.0</td>\n",
       "      <td>PAIS VASCO</td>\n",
       "      <td>Público</td>\n",
       "      <td>2.0</td>\n",
       "      <td>2</td>\n",
       "      <td>0</td>\n",
       "      <td>1</td>\n",
       "      <td>1.0</td>\n",
       "      <td>0</td>\n",
       "      <td>1</td>\n",
       "      <td>...</td>\n",
       "      <td>0</td>\n",
       "      <td>0</td>\n",
       "      <td>0</td>\n",
       "      <td>0</td>\n",
       "      <td>0</td>\n",
       "      <td>1</td>\n",
       "      <td>1</td>\n",
       "      <td>0</td>\n",
       "      <td>0</td>\n",
       "      <td>2.0</td>\n",
       "    </tr>\n",
       "    <tr>\n",
       "      <th>3</th>\n",
       "      <td>2.0</td>\n",
       "      <td>PAIS VASCO</td>\n",
       "      <td>Concertado</td>\n",
       "      <td>2.0</td>\n",
       "      <td>2</td>\n",
       "      <td>0</td>\n",
       "      <td>1</td>\n",
       "      <td>1.0</td>\n",
       "      <td>1</td>\n",
       "      <td>0</td>\n",
       "      <td>...</td>\n",
       "      <td>0</td>\n",
       "      <td>0</td>\n",
       "      <td>0</td>\n",
       "      <td>1</td>\n",
       "      <td>0</td>\n",
       "      <td>1</td>\n",
       "      <td>0</td>\n",
       "      <td>0</td>\n",
       "      <td>0</td>\n",
       "      <td>3.0</td>\n",
       "    </tr>\n",
       "    <tr>\n",
       "      <th>4</th>\n",
       "      <td>2.0</td>\n",
       "      <td>PAIS VASCO</td>\n",
       "      <td>Público</td>\n",
       "      <td>2.0</td>\n",
       "      <td>2</td>\n",
       "      <td>0</td>\n",
       "      <td>1</td>\n",
       "      <td>1.0</td>\n",
       "      <td>0</td>\n",
       "      <td>1</td>\n",
       "      <td>...</td>\n",
       "      <td>0</td>\n",
       "      <td>1</td>\n",
       "      <td>0</td>\n",
       "      <td>0</td>\n",
       "      <td>0</td>\n",
       "      <td>1</td>\n",
       "      <td>0</td>\n",
       "      <td>0</td>\n",
       "      <td>0</td>\n",
       "      <td>3.0</td>\n",
       "    </tr>\n",
       "  </tbody>\n",
       "</table>\n",
       "<p>5 rows × 108 columns</p>\n",
       "</div>"
      ],
      "text/plain": [
       "   Gender AutonomousCommunity SchoolOwnership  KindOfPlace  LivingUnit  \\\n",
       "0     NaN          PAIS VASCO         Público          2.0           2   \n",
       "1     2.0          PAIS VASCO         Público          2.0           2   \n",
       "2     2.0          PAIS VASCO         Público          2.0           2   \n",
       "3     2.0          PAIS VASCO      Concertado          2.0           2   \n",
       "4     2.0          PAIS VASCO         Público          2.0           2   \n",
       "\n",
       "   DependentPersons  WorkConfinement  WorkConfinementsSecondAdult  \\\n",
       "0                 0                1                          1.0   \n",
       "1                 0                1                          0.0   \n",
       "2                 0                1                          1.0   \n",
       "3                 0                1                          1.0   \n",
       "4                 0                1                          1.0   \n",
       "\n",
       "   ChildEarlyEducation1  ChildEarlyEducation2  ...  SpaceGym  SpaceOther  \\\n",
       "0                     1                     0  ...         0           0   \n",
       "1                     1                     0  ...         0           0   \n",
       "2                     0                     1  ...         0           0   \n",
       "3                     1                     0  ...         0           0   \n",
       "4                     0                     1  ...         0           1   \n",
       "\n",
       "   SpaceNone  SpaceStreet  SpacePlots  SpaceParks  SpacePublic  \\\n",
       "0          0            0           0           0            1   \n",
       "1          0            1           0           1            1   \n",
       "2          0            0           0           1            1   \n",
       "3          0            1           0           1            0   \n",
       "4          0            0           0           1            0   \n",
       "\n",
       "   SpaceSurroundingOther  SpaceSurroundingNone  ActivitiesOutside  \n",
       "0                      0                     0                2.0  \n",
       "1                      0                     0                2.0  \n",
       "2                      0                     0                2.0  \n",
       "3                      0                     0                3.0  \n",
       "4                      0                     0                3.0  \n",
       "\n",
       "[5 rows x 108 columns]"
      ]
     },
     "execution_count": 172,
     "metadata": {},
     "output_type": "execute_result"
    }
   ],
   "source": [
    "df.head()"
   ]
  },
  {
   "cell_type": "markdown",
   "metadata": {},
   "source": [
    "Then drop all the istances that have at least 2 NaN values.  \n",
    "\n",
    "Don't drop all instances with at least one NaN values because there are 5766 instances matching this status..."
   ]
  },
  {
   "cell_type": "code",
   "execution_count": 173,
   "metadata": {},
   "outputs": [
    {
     "data": {
      "text/html": [
       "<div>\n",
       "<style scoped>\n",
       "    .dataframe tbody tr th:only-of-type {\n",
       "        vertical-align: middle;\n",
       "    }\n",
       "\n",
       "    .dataframe tbody tr th {\n",
       "        vertical-align: top;\n",
       "    }\n",
       "\n",
       "    .dataframe thead th {\n",
       "        text-align: right;\n",
       "    }\n",
       "</style>\n",
       "<table border=\"1\" class=\"dataframe\">\n",
       "  <thead>\n",
       "    <tr style=\"text-align: right;\">\n",
       "      <th></th>\n",
       "      <th>Gender</th>\n",
       "      <th>AutonomousCommunity</th>\n",
       "      <th>KindOfPlace</th>\n",
       "      <th>WorkConfinementsSecondAdult</th>\n",
       "      <th>WorkloadChange</th>\n",
       "      <th>HouseworkMore</th>\n",
       "      <th>Sleep</th>\n",
       "      <th>Leisure</th>\n",
       "      <th>Sports</th>\n",
       "      <th>Friends</th>\n",
       "      <th>...</th>\n",
       "      <th>Bedtime</th>\n",
       "      <th>PositiveImpact</th>\n",
       "      <th>NegativeImpact</th>\n",
       "      <th>HelpOnline</th>\n",
       "      <th>SchoolCommunication</th>\n",
       "      <th>ParentsGroups</th>\n",
       "      <th>ParentsCommunicationReturn</th>\n",
       "      <th>FamiliesCollaboration</th>\n",
       "      <th>SchoolSpace</th>\n",
       "      <th>ActivitiesOutside</th>\n",
       "    </tr>\n",
       "  </thead>\n",
       "  <tbody>\n",
       "    <tr>\n",
       "      <th>0</th>\n",
       "      <td>NaN</td>\n",
       "      <td>PAIS VASCO</td>\n",
       "      <td>2.0</td>\n",
       "      <td>1.0</td>\n",
       "      <td>3.0</td>\n",
       "      <td>2.0</td>\n",
       "      <td>2.0</td>\n",
       "      <td>2.0</td>\n",
       "      <td>2.0</td>\n",
       "      <td>3.0</td>\n",
       "      <td>...</td>\n",
       "      <td>1.0</td>\n",
       "      <td>2.0</td>\n",
       "      <td>2.0</td>\n",
       "      <td>NaN</td>\n",
       "      <td>3.0</td>\n",
       "      <td>3.0</td>\n",
       "      <td>1.0</td>\n",
       "      <td>3.0</td>\n",
       "      <td>1.0</td>\n",
       "      <td>2.0</td>\n",
       "    </tr>\n",
       "    <tr>\n",
       "      <th>5</th>\n",
       "      <td>2.0</td>\n",
       "      <td>PAIS VASCO</td>\n",
       "      <td>2.0</td>\n",
       "      <td>1.0</td>\n",
       "      <td>6.0</td>\n",
       "      <td>2.0</td>\n",
       "      <td>3.0</td>\n",
       "      <td>1.0</td>\n",
       "      <td>1.0</td>\n",
       "      <td>3.0</td>\n",
       "      <td>...</td>\n",
       "      <td>0.0</td>\n",
       "      <td>2.0</td>\n",
       "      <td>2.0</td>\n",
       "      <td>3.0</td>\n",
       "      <td>1.0</td>\n",
       "      <td>4.0</td>\n",
       "      <td>3.0</td>\n",
       "      <td>3.0</td>\n",
       "      <td>1.0</td>\n",
       "      <td>3.0</td>\n",
       "    </tr>\n",
       "    <tr>\n",
       "      <th>11</th>\n",
       "      <td>2.0</td>\n",
       "      <td>PAIS VASCO</td>\n",
       "      <td>2.0</td>\n",
       "      <td>0.0</td>\n",
       "      <td>NaN</td>\n",
       "      <td>2.0</td>\n",
       "      <td>4.0</td>\n",
       "      <td>4.0</td>\n",
       "      <td>3.0</td>\n",
       "      <td>3.0</td>\n",
       "      <td>...</td>\n",
       "      <td>0.0</td>\n",
       "      <td>2.0</td>\n",
       "      <td>0.0</td>\n",
       "      <td>4.0</td>\n",
       "      <td>3.0</td>\n",
       "      <td>3.0</td>\n",
       "      <td>2.0</td>\n",
       "      <td>3.0</td>\n",
       "      <td>1.0</td>\n",
       "      <td>1.0</td>\n",
       "    </tr>\n",
       "    <tr>\n",
       "      <th>16</th>\n",
       "      <td>2.0</td>\n",
       "      <td>PAIS VASCO</td>\n",
       "      <td>2.0</td>\n",
       "      <td>1.0</td>\n",
       "      <td>6.0</td>\n",
       "      <td>2.0</td>\n",
       "      <td>3.0</td>\n",
       "      <td>1.0</td>\n",
       "      <td>1.0</td>\n",
       "      <td>1.0</td>\n",
       "      <td>...</td>\n",
       "      <td>0.0</td>\n",
       "      <td>2.0</td>\n",
       "      <td>2.0</td>\n",
       "      <td>NaN</td>\n",
       "      <td>2.0</td>\n",
       "      <td>3.0</td>\n",
       "      <td>2.0</td>\n",
       "      <td>3.0</td>\n",
       "      <td>1.0</td>\n",
       "      <td>NaN</td>\n",
       "    </tr>\n",
       "    <tr>\n",
       "      <th>21</th>\n",
       "      <td>2.0</td>\n",
       "      <td>PAIS VASCO</td>\n",
       "      <td>2.0</td>\n",
       "      <td>1.0</td>\n",
       "      <td>3.0</td>\n",
       "      <td>1.0</td>\n",
       "      <td>4.0</td>\n",
       "      <td>1.0</td>\n",
       "      <td>4.0</td>\n",
       "      <td>4.0</td>\n",
       "      <td>...</td>\n",
       "      <td>0.0</td>\n",
       "      <td>2.0</td>\n",
       "      <td>2.0</td>\n",
       "      <td>NaN</td>\n",
       "      <td>2.0</td>\n",
       "      <td>4.0</td>\n",
       "      <td>1.0</td>\n",
       "      <td>3.0</td>\n",
       "      <td>2.0</td>\n",
       "      <td>3.0</td>\n",
       "    </tr>\n",
       "    <tr>\n",
       "      <th>...</th>\n",
       "      <td>...</td>\n",
       "      <td>...</td>\n",
       "      <td>...</td>\n",
       "      <td>...</td>\n",
       "      <td>...</td>\n",
       "      <td>...</td>\n",
       "      <td>...</td>\n",
       "      <td>...</td>\n",
       "      <td>...</td>\n",
       "      <td>...</td>\n",
       "      <td>...</td>\n",
       "      <td>...</td>\n",
       "      <td>...</td>\n",
       "      <td>...</td>\n",
       "      <td>...</td>\n",
       "      <td>...</td>\n",
       "      <td>...</td>\n",
       "      <td>...</td>\n",
       "      <td>...</td>\n",
       "      <td>...</td>\n",
       "      <td>...</td>\n",
       "    </tr>\n",
       "    <tr>\n",
       "      <th>7253</th>\n",
       "      <td>2.0</td>\n",
       "      <td>ARAGÓN</td>\n",
       "      <td>2.0</td>\n",
       "      <td>1.0</td>\n",
       "      <td>7.0</td>\n",
       "      <td>2.0</td>\n",
       "      <td>2.0</td>\n",
       "      <td>4.0</td>\n",
       "      <td>3.0</td>\n",
       "      <td>4.0</td>\n",
       "      <td>...</td>\n",
       "      <td>1.0</td>\n",
       "      <td>2.0</td>\n",
       "      <td>2.0</td>\n",
       "      <td>3.0</td>\n",
       "      <td>2.0</td>\n",
       "      <td>3.0</td>\n",
       "      <td>4.0</td>\n",
       "      <td>3.0</td>\n",
       "      <td>2.0</td>\n",
       "      <td>3.0</td>\n",
       "    </tr>\n",
       "    <tr>\n",
       "      <th>7280</th>\n",
       "      <td>2.0</td>\n",
       "      <td>ARAGÓN</td>\n",
       "      <td>2.0</td>\n",
       "      <td>1.0</td>\n",
       "      <td>5.0</td>\n",
       "      <td>2.0</td>\n",
       "      <td>2.0</td>\n",
       "      <td>2.0</td>\n",
       "      <td>1.0</td>\n",
       "      <td>3.0</td>\n",
       "      <td>...</td>\n",
       "      <td>1.0</td>\n",
       "      <td>0.0</td>\n",
       "      <td>2.0</td>\n",
       "      <td>NaN</td>\n",
       "      <td>NaN</td>\n",
       "      <td>NaN</td>\n",
       "      <td>NaN</td>\n",
       "      <td>3.0</td>\n",
       "      <td>2.0</td>\n",
       "      <td>2.0</td>\n",
       "    </tr>\n",
       "    <tr>\n",
       "      <th>7287</th>\n",
       "      <td>2.0</td>\n",
       "      <td>ARAGÓN</td>\n",
       "      <td>1.0</td>\n",
       "      <td>NaN</td>\n",
       "      <td>3.0</td>\n",
       "      <td>2.0</td>\n",
       "      <td>2.0</td>\n",
       "      <td>1.0</td>\n",
       "      <td>2.0</td>\n",
       "      <td>2.0</td>\n",
       "      <td>...</td>\n",
       "      <td>1.0</td>\n",
       "      <td>2.0</td>\n",
       "      <td>2.0</td>\n",
       "      <td>3.0</td>\n",
       "      <td>3.0</td>\n",
       "      <td>2.0</td>\n",
       "      <td>2.0</td>\n",
       "      <td>3.0</td>\n",
       "      <td>1.0</td>\n",
       "      <td>NaN</td>\n",
       "    </tr>\n",
       "    <tr>\n",
       "      <th>7299</th>\n",
       "      <td>2.0</td>\n",
       "      <td>CEUTA</td>\n",
       "      <td>2.0</td>\n",
       "      <td>1.0</td>\n",
       "      <td>7.0</td>\n",
       "      <td>0.0</td>\n",
       "      <td>3.0</td>\n",
       "      <td>4.0</td>\n",
       "      <td>3.0</td>\n",
       "      <td>2.0</td>\n",
       "      <td>...</td>\n",
       "      <td>0.0</td>\n",
       "      <td>2.0</td>\n",
       "      <td>2.0</td>\n",
       "      <td>4.0</td>\n",
       "      <td>2.0</td>\n",
       "      <td>3.0</td>\n",
       "      <td>2.0</td>\n",
       "      <td>3.0</td>\n",
       "      <td>1.0</td>\n",
       "      <td>3.0</td>\n",
       "    </tr>\n",
       "    <tr>\n",
       "      <th>7300</th>\n",
       "      <td>1.0</td>\n",
       "      <td>CEUTA</td>\n",
       "      <td>2.0</td>\n",
       "      <td>0.0</td>\n",
       "      <td>2.0</td>\n",
       "      <td>2.0</td>\n",
       "      <td>2.0</td>\n",
       "      <td>3.0</td>\n",
       "      <td>3.0</td>\n",
       "      <td>2.0</td>\n",
       "      <td>...</td>\n",
       "      <td>0.0</td>\n",
       "      <td>1.0</td>\n",
       "      <td>2.0</td>\n",
       "      <td>2.0</td>\n",
       "      <td>NaN</td>\n",
       "      <td>NaN</td>\n",
       "      <td>NaN</td>\n",
       "      <td>3.0</td>\n",
       "      <td>3.0</td>\n",
       "      <td>3.0</td>\n",
       "    </tr>\n",
       "  </tbody>\n",
       "</table>\n",
       "<p>858 rows × 30 columns</p>\n",
       "</div>"
      ],
      "text/plain": [
       "      Gender AutonomousCommunity  KindOfPlace  WorkConfinementsSecondAdult  \\\n",
       "0        NaN          PAIS VASCO          2.0                          1.0   \n",
       "5        2.0          PAIS VASCO          2.0                          1.0   \n",
       "11       2.0          PAIS VASCO          2.0                          0.0   \n",
       "16       2.0          PAIS VASCO          2.0                          1.0   \n",
       "21       2.0          PAIS VASCO          2.0                          1.0   \n",
       "...      ...                 ...          ...                          ...   \n",
       "7253     2.0              ARAGÓN          2.0                          1.0   \n",
       "7280     2.0              ARAGÓN          2.0                          1.0   \n",
       "7287     2.0              ARAGÓN          1.0                          NaN   \n",
       "7299     2.0               CEUTA          2.0                          1.0   \n",
       "7300     1.0               CEUTA          2.0                          0.0   \n",
       "\n",
       "      WorkloadChange  HouseworkMore  Sleep  Leisure  Sports  Friends  ...  \\\n",
       "0                3.0            2.0    2.0      2.0     2.0      3.0  ...   \n",
       "5                6.0            2.0    3.0      1.0     1.0      3.0  ...   \n",
       "11               NaN            2.0    4.0      4.0     3.0      3.0  ...   \n",
       "16               6.0            2.0    3.0      1.0     1.0      1.0  ...   \n",
       "21               3.0            1.0    4.0      1.0     4.0      4.0  ...   \n",
       "...              ...            ...    ...      ...     ...      ...  ...   \n",
       "7253             7.0            2.0    2.0      4.0     3.0      4.0  ...   \n",
       "7280             5.0            2.0    2.0      2.0     1.0      3.0  ...   \n",
       "7287             3.0            2.0    2.0      1.0     2.0      2.0  ...   \n",
       "7299             7.0            0.0    3.0      4.0     3.0      2.0  ...   \n",
       "7300             2.0            2.0    2.0      3.0     3.0      2.0  ...   \n",
       "\n",
       "      Bedtime  PositiveImpact  NegativeImpact  HelpOnline  \\\n",
       "0         1.0             2.0             2.0         NaN   \n",
       "5         0.0             2.0             2.0         3.0   \n",
       "11        0.0             2.0             0.0         4.0   \n",
       "16        0.0             2.0             2.0         NaN   \n",
       "21        0.0             2.0             2.0         NaN   \n",
       "...       ...             ...             ...         ...   \n",
       "7253      1.0             2.0             2.0         3.0   \n",
       "7280      1.0             0.0             2.0         NaN   \n",
       "7287      1.0             2.0             2.0         3.0   \n",
       "7299      0.0             2.0             2.0         4.0   \n",
       "7300      0.0             1.0             2.0         2.0   \n",
       "\n",
       "      SchoolCommunication  ParentsGroups  ParentsCommunicationReturn  \\\n",
       "0                     3.0            3.0                         1.0   \n",
       "5                     1.0            4.0                         3.0   \n",
       "11                    3.0            3.0                         2.0   \n",
       "16                    2.0            3.0                         2.0   \n",
       "21                    2.0            4.0                         1.0   \n",
       "...                   ...            ...                         ...   \n",
       "7253                  2.0            3.0                         4.0   \n",
       "7280                  NaN            NaN                         NaN   \n",
       "7287                  3.0            2.0                         2.0   \n",
       "7299                  2.0            3.0                         2.0   \n",
       "7300                  NaN            NaN                         NaN   \n",
       "\n",
       "      FamiliesCollaboration  SchoolSpace  ActivitiesOutside  \n",
       "0                       3.0          1.0                2.0  \n",
       "5                       3.0          1.0                3.0  \n",
       "11                      3.0          1.0                1.0  \n",
       "16                      3.0          1.0                NaN  \n",
       "21                      3.0          2.0                3.0  \n",
       "...                     ...          ...                ...  \n",
       "7253                    3.0          2.0                3.0  \n",
       "7280                    3.0          2.0                2.0  \n",
       "7287                    3.0          1.0                NaN  \n",
       "7299                    3.0          1.0                3.0  \n",
       "7300                    3.0          3.0                3.0  \n",
       "\n",
       "[858 rows x 30 columns]"
      ]
     },
     "execution_count": 173,
     "metadata": {},
     "output_type": "execute_result"
    }
   ],
   "source": [
    "# Columns with a least one NaN value\n",
    "na_columns = df.columns[df.isna().any()]\n",
    "\n",
    "# Rows with a least 2 NaN value\n",
    "na_rows = df[na_columns].isna().sum(axis=1) >= 2\n",
    "\n",
    "df_rowsWithNa = df.loc[na_rows, na_columns]\n",
    "df_rowsWithNa\n"
   ]
  },
  {
   "cell_type": "code",
   "execution_count": 174,
   "metadata": {},
   "outputs": [],
   "source": [
    "# Full instances selection\n",
    "index = [i for i in np.array(df.index) if i not in df_rowsWithNa.index]\n",
    "\n",
    "df = df.loc[index, :]"
   ]
  },
  {
   "cell_type": "code",
   "execution_count": 175,
   "metadata": {},
   "outputs": [
    {
     "data": {
      "text/plain": [
       "(6447, 108)"
      ]
     },
     "execution_count": 175,
     "metadata": {},
     "output_type": "execute_result"
    }
   ],
   "source": [
    "df.shape"
   ]
  },
  {
   "cell_type": "markdown",
   "metadata": {},
   "source": [
    "---"
   ]
  },
  {
   "cell_type": "markdown",
   "metadata": {},
   "source": [
    "### NaN values of '**AutonomousCommunity**' column\n",
    "\n",
    "- It's just one, replace its value with mode because it has all the non-NaN features, so the mode is very significant for the inference."
   ]
  },
  {
   "cell_type": "code",
   "execution_count": 176,
   "metadata": {},
   "outputs": [
    {
     "data": {
      "text/html": [
       "<div>\n",
       "<style scoped>\n",
       "    .dataframe tbody tr th:only-of-type {\n",
       "        vertical-align: middle;\n",
       "    }\n",
       "\n",
       "    .dataframe tbody tr th {\n",
       "        vertical-align: top;\n",
       "    }\n",
       "\n",
       "    .dataframe thead th {\n",
       "        text-align: right;\n",
       "    }\n",
       "</style>\n",
       "<table border=\"1\" class=\"dataframe\">\n",
       "  <thead>\n",
       "    <tr style=\"text-align: right;\">\n",
       "      <th></th>\n",
       "      <th>Gender</th>\n",
       "      <th>AutonomousCommunity</th>\n",
       "      <th>SchoolOwnership</th>\n",
       "      <th>KindOfPlace</th>\n",
       "      <th>LivingUnit</th>\n",
       "      <th>DependentPersons</th>\n",
       "      <th>WorkConfinement</th>\n",
       "      <th>WorkConfinementsSecondAdult</th>\n",
       "      <th>ChildEarlyEducation1</th>\n",
       "      <th>ChildEarlyEducation2</th>\n",
       "      <th>...</th>\n",
       "      <th>SpaceGym</th>\n",
       "      <th>SpaceOther</th>\n",
       "      <th>SpaceNone</th>\n",
       "      <th>SpaceStreet</th>\n",
       "      <th>SpacePlots</th>\n",
       "      <th>SpaceParks</th>\n",
       "      <th>SpacePublic</th>\n",
       "      <th>SpaceSurroundingOther</th>\n",
       "      <th>SpaceSurroundingNone</th>\n",
       "      <th>ActivitiesOutside</th>\n",
       "    </tr>\n",
       "  </thead>\n",
       "  <tbody>\n",
       "    <tr>\n",
       "      <th>733</th>\n",
       "      <td>False</td>\n",
       "      <td>True</td>\n",
       "      <td>False</td>\n",
       "      <td>False</td>\n",
       "      <td>False</td>\n",
       "      <td>False</td>\n",
       "      <td>False</td>\n",
       "      <td>False</td>\n",
       "      <td>False</td>\n",
       "      <td>False</td>\n",
       "      <td>...</td>\n",
       "      <td>False</td>\n",
       "      <td>False</td>\n",
       "      <td>False</td>\n",
       "      <td>False</td>\n",
       "      <td>False</td>\n",
       "      <td>False</td>\n",
       "      <td>False</td>\n",
       "      <td>False</td>\n",
       "      <td>False</td>\n",
       "      <td>False</td>\n",
       "    </tr>\n",
       "  </tbody>\n",
       "</table>\n",
       "<p>1 rows × 108 columns</p>\n",
       "</div>"
      ],
      "text/plain": [
       "     Gender  AutonomousCommunity  SchoolOwnership  KindOfPlace  LivingUnit  \\\n",
       "733   False                 True            False        False       False   \n",
       "\n",
       "     DependentPersons  WorkConfinement  WorkConfinementsSecondAdult  \\\n",
       "733             False            False                        False   \n",
       "\n",
       "     ChildEarlyEducation1  ChildEarlyEducation2  ...  SpaceGym  SpaceOther  \\\n",
       "733                 False                 False  ...     False       False   \n",
       "\n",
       "     SpaceNone  SpaceStreet  SpacePlots  SpaceParks  SpacePublic  \\\n",
       "733      False        False       False       False        False   \n",
       "\n",
       "     SpaceSurroundingOther  SpaceSurroundingNone  ActivitiesOutside  \n",
       "733                  False                 False              False  \n",
       "\n",
       "[1 rows x 108 columns]"
      ]
     },
     "execution_count": 176,
     "metadata": {},
     "output_type": "execute_result"
    }
   ],
   "source": [
    "df.loc[df.AutonomousCommunity.isna(), :].isna()"
   ]
  },
  {
   "cell_type": "code",
   "execution_count": 177,
   "metadata": {},
   "outputs": [
    {
     "data": {
      "text/plain": [
       "AutonomousCommunity \n",
       "COMUNIDAD VALENCIANA    2790\n",
       "MADRID                  1062\n",
       "CATALUÑA                 627\n",
       "ANDALUCÍA                464\n",
       "CASTILLA Y LEÓN          208\n",
       "PAIS VASCO               195\n",
       "GALICIA                  181\n",
       "CASTILLA LA MANCHA       178\n",
       "ARAGÓN                   144\n",
       "CANARIAS                 125\n",
       "ASTURIAS                 117\n",
       "MURCIA                    93\n",
       "ILLES BALEARS             75\n",
       "CANTABRIA                 56\n",
       "NAVARRA                   54\n",
       "EXTREMADURA               42\n",
       "LA RIOJA                  27\n",
       "CEUTA                      4\n",
       "MELILLA                    4\n",
       "Name: count, dtype: int64"
      ]
     },
     "execution_count": 177,
     "metadata": {},
     "output_type": "execute_result"
    }
   ],
   "source": [
    "df.loc[:, [\"AutonomousCommunity\"]].value_counts()"
   ]
  },
  {
   "cell_type": "code",
   "execution_count": 178,
   "metadata": {},
   "outputs": [],
   "source": [
    "AutoCom_mode = df.AutonomousCommunity.mode()[0]\n",
    "df.loc[df.AutonomousCommunity.isna(), ['AutonomousCommunity']] = AutoCom_mode"
   ]
  },
  {
   "cell_type": "markdown",
   "metadata": {},
   "source": [
    "---"
   ]
  },
  {
   "cell_type": "markdown",
   "metadata": {},
   "source": [
    "### NaN values of '**KindOfPlace**' column"
   ]
  },
  {
   "cell_type": "code",
   "execution_count": 179,
   "metadata": {},
   "outputs": [],
   "source": [
    "df = df.loc[df.KindOfPlace.isna() == False, :]"
   ]
  },
  {
   "cell_type": "markdown",
   "metadata": {},
   "source": [
    "---"
   ]
  },
  {
   "cell_type": "markdown",
   "metadata": {},
   "source": [
    "### NaN values of '**WorkConfinementsSecondAdult**' column\n",
    "\n",
    "- If '**LivingUnit**' value is 1 (\"**One adult person with a minor or minors in care**\") then '**WorkConfinementsSecondAdult**' value is set to 0 (\"**No**\")\n",
    "\n",
    "Drop remaining instances"
   ]
  },
  {
   "cell_type": "code",
   "execution_count": 180,
   "metadata": {},
   "outputs": [],
   "source": [
    "mask_index = df.LivingUnit == 1 & df.WorkConfinementsSecondAdult.isna()\n",
    "\n",
    "df.loc[mask_index, 'WorkConfinementsSecondAdult'] = 0"
   ]
  },
  {
   "cell_type": "code",
   "execution_count": 181,
   "metadata": {},
   "outputs": [
    {
     "data": {
      "text/html": [
       "<div>\n",
       "<style scoped>\n",
       "    .dataframe tbody tr th:only-of-type {\n",
       "        vertical-align: middle;\n",
       "    }\n",
       "\n",
       "    .dataframe tbody tr th {\n",
       "        vertical-align: top;\n",
       "    }\n",
       "\n",
       "    .dataframe thead th {\n",
       "        text-align: right;\n",
       "    }\n",
       "</style>\n",
       "<table border=\"1\" class=\"dataframe\">\n",
       "  <thead>\n",
       "    <tr style=\"text-align: right;\">\n",
       "      <th></th>\n",
       "      <th>LivingUnit</th>\n",
       "      <th>WorkConfinementsSecondAdult</th>\n",
       "    </tr>\n",
       "  </thead>\n",
       "  <tbody>\n",
       "    <tr>\n",
       "      <th>319</th>\n",
       "      <td>2</td>\n",
       "      <td>NaN</td>\n",
       "    </tr>\n",
       "    <tr>\n",
       "      <th>754</th>\n",
       "      <td>2</td>\n",
       "      <td>NaN</td>\n",
       "    </tr>\n",
       "    <tr>\n",
       "      <th>1687</th>\n",
       "      <td>2</td>\n",
       "      <td>NaN</td>\n",
       "    </tr>\n",
       "    <tr>\n",
       "      <th>1778</th>\n",
       "      <td>2</td>\n",
       "      <td>NaN</td>\n",
       "    </tr>\n",
       "    <tr>\n",
       "      <th>1942</th>\n",
       "      <td>2</td>\n",
       "      <td>NaN</td>\n",
       "    </tr>\n",
       "    <tr>\n",
       "      <th>2264</th>\n",
       "      <td>2</td>\n",
       "      <td>NaN</td>\n",
       "    </tr>\n",
       "    <tr>\n",
       "      <th>2287</th>\n",
       "      <td>2</td>\n",
       "      <td>NaN</td>\n",
       "    </tr>\n",
       "    <tr>\n",
       "      <th>3608</th>\n",
       "      <td>2</td>\n",
       "      <td>NaN</td>\n",
       "    </tr>\n",
       "    <tr>\n",
       "      <th>3631</th>\n",
       "      <td>2</td>\n",
       "      <td>NaN</td>\n",
       "    </tr>\n",
       "    <tr>\n",
       "      <th>3834</th>\n",
       "      <td>2</td>\n",
       "      <td>NaN</td>\n",
       "    </tr>\n",
       "    <tr>\n",
       "      <th>4448</th>\n",
       "      <td>2</td>\n",
       "      <td>NaN</td>\n",
       "    </tr>\n",
       "    <tr>\n",
       "      <th>5465</th>\n",
       "      <td>2</td>\n",
       "      <td>NaN</td>\n",
       "    </tr>\n",
       "    <tr>\n",
       "      <th>6696</th>\n",
       "      <td>2</td>\n",
       "      <td>NaN</td>\n",
       "    </tr>\n",
       "    <tr>\n",
       "      <th>6697</th>\n",
       "      <td>2</td>\n",
       "      <td>NaN</td>\n",
       "    </tr>\n",
       "    <tr>\n",
       "      <th>6792</th>\n",
       "      <td>2</td>\n",
       "      <td>NaN</td>\n",
       "    </tr>\n",
       "  </tbody>\n",
       "</table>\n",
       "</div>"
      ],
      "text/plain": [
       "      LivingUnit  WorkConfinementsSecondAdult\n",
       "319            2                          NaN\n",
       "754            2                          NaN\n",
       "1687           2                          NaN\n",
       "1778           2                          NaN\n",
       "1942           2                          NaN\n",
       "2264           2                          NaN\n",
       "2287           2                          NaN\n",
       "3608           2                          NaN\n",
       "3631           2                          NaN\n",
       "3834           2                          NaN\n",
       "4448           2                          NaN\n",
       "5465           2                          NaN\n",
       "6696           2                          NaN\n",
       "6697           2                          NaN\n",
       "6792           2                          NaN"
      ]
     },
     "execution_count": 181,
     "metadata": {},
     "output_type": "execute_result"
    }
   ],
   "source": [
    "df.loc[df.WorkConfinementsSecondAdult.isna(), ['LivingUnit', 'WorkConfinementsSecondAdult']]"
   ]
  },
  {
   "cell_type": "code",
   "execution_count": 182,
   "metadata": {},
   "outputs": [],
   "source": [
    "df = df.loc[df.WorkConfinementsSecondAdult.isna() == False, :]"
   ]
  },
  {
   "cell_type": "markdown",
   "metadata": {},
   "source": [
    "---"
   ]
  },
  {
   "cell_type": "markdown",
   "metadata": {},
   "source": [
    "### NaN values of '**WorkloadChange**' column"
   ]
  },
  {
   "cell_type": "code",
   "execution_count": 183,
   "metadata": {},
   "outputs": [],
   "source": [
    "df = df.loc[df.WorkloadChange.isna() == False, :]"
   ]
  },
  {
   "cell_type": "markdown",
   "metadata": {},
   "source": [
    "---"
   ]
  },
  {
   "cell_type": "markdown",
   "metadata": {},
   "source": [
    "### NaN values of '**HouseworkMore**' column"
   ]
  },
  {
   "cell_type": "code",
   "execution_count": 184,
   "metadata": {},
   "outputs": [],
   "source": [
    "df = df.loc[df.HouseworkMore.isna() == False, :]"
   ]
  },
  {
   "cell_type": "markdown",
   "metadata": {},
   "source": [
    "---"
   ]
  },
  {
   "cell_type": "markdown",
   "metadata": {},
   "source": [
    "### NaN values of '**Sleep**' column\n",
    "- If '**Tired**' value is 1 OR 2 (\"**Maybe**\" OR \"**Yes**\") then '**Sleep**' value is set to 2 (\"**Less than before**\")"
   ]
  },
  {
   "cell_type": "code",
   "execution_count": 185,
   "metadata": {},
   "outputs": [],
   "source": [
    "Sleep_mode = df.Sleep.mode()[0]\n",
    "mask_index = df.Sleep.isna() & ((df.Tired == 1) | (df.Tired == 2))\n",
    "\n",
    "df.loc[mask_index, ['Sleep']] = Sleep_mode"
   ]
  },
  {
   "cell_type": "markdown",
   "metadata": {},
   "source": [
    "Drop remaining istances"
   ]
  },
  {
   "cell_type": "code",
   "execution_count": 186,
   "metadata": {},
   "outputs": [],
   "source": [
    "df = df.loc[df.Sleep.isna() == False, :]"
   ]
  },
  {
   "cell_type": "markdown",
   "metadata": {},
   "source": [
    "---"
   ]
  },
  {
   "cell_type": "markdown",
   "metadata": {},
   "source": [
    "### NaN values of '**DomesticHelp**' column\n",
    "- Replace all the missing values with meddle values such as \"**I prefer not to answer**\""
   ]
  },
  {
   "cell_type": "code",
   "execution_count": 187,
   "metadata": {},
   "outputs": [],
   "source": [
    "middle_value = 2\n",
    "\n",
    "df.loc[df.DomesticHelp.isna(), 'DomesticHelp'] = middle_value"
   ]
  },
  {
   "cell_type": "markdown",
   "metadata": {},
   "source": [
    "---"
   ]
  },
  {
   "cell_type": "markdown",
   "metadata": {},
   "source": [
    "### NaN values of '**FamiliesCollaboration**' column\n",
    "- Replace all the missing values with meddle values such as \"**I don't know**\""
   ]
  },
  {
   "cell_type": "code",
   "execution_count": 188,
   "metadata": {},
   "outputs": [],
   "source": [
    "# na_val_count = df.FamiliesCollaboration.isna().sum()\n",
    "# print(f\"There are {na_val_count} NaN values\")"
   ]
  },
  {
   "cell_type": "code",
   "execution_count": 189,
   "metadata": {},
   "outputs": [],
   "source": [
    "middle_value = 2\n",
    "df.loc[df.FamiliesCollaboration.isna(), 'FamiliesCollaboration'] = middle_value"
   ]
  },
  {
   "cell_type": "markdown",
   "metadata": {},
   "source": [
    "---"
   ]
  },
  {
   "cell_type": "markdown",
   "metadata": {},
   "source": [
    "### NaN values of '**PositiveImpact**' column\n",
    "- The pattern of the next questions is \"If yes, then answere....\", so if at least one of the next questions values is 1 (**yes**)  then  '**PositiveImpact**' is set to 2 (\"**yes**\")"
   ]
  },
  {
   "cell_type": "code",
   "execution_count": 190,
   "metadata": {},
   "outputs": [
    {
     "data": {
      "text/html": [
       "<div>\n",
       "<style scoped>\n",
       "    .dataframe tbody tr th:only-of-type {\n",
       "        vertical-align: middle;\n",
       "    }\n",
       "\n",
       "    .dataframe tbody tr th {\n",
       "        vertical-align: top;\n",
       "    }\n",
       "\n",
       "    .dataframe thead th {\n",
       "        text-align: right;\n",
       "    }\n",
       "</style>\n",
       "<table border=\"1\" class=\"dataframe\">\n",
       "  <thead>\n",
       "    <tr style=\"text-align: right;\">\n",
       "      <th></th>\n",
       "      <th>PositiveImpact</th>\n",
       "      <th>Adaptarion</th>\n",
       "      <th>Bonding</th>\n",
       "      <th>TastesAndAbilities</th>\n",
       "      <th>Responsability</th>\n",
       "      <th>Understanding</th>\n",
       "      <th>BondingNeighbours</th>\n",
       "    </tr>\n",
       "  </thead>\n",
       "  <tbody>\n",
       "    <tr>\n",
       "      <th>622</th>\n",
       "      <td>NaN</td>\n",
       "      <td>1</td>\n",
       "      <td>1</td>\n",
       "      <td>0</td>\n",
       "      <td>1</td>\n",
       "      <td>0</td>\n",
       "      <td>1</td>\n",
       "    </tr>\n",
       "    <tr>\n",
       "      <th>2207</th>\n",
       "      <td>NaN</td>\n",
       "      <td>1</td>\n",
       "      <td>1</td>\n",
       "      <td>1</td>\n",
       "      <td>0</td>\n",
       "      <td>0</td>\n",
       "      <td>0</td>\n",
       "    </tr>\n",
       "    <tr>\n",
       "      <th>4067</th>\n",
       "      <td>NaN</td>\n",
       "      <td>0</td>\n",
       "      <td>1</td>\n",
       "      <td>0</td>\n",
       "      <td>0</td>\n",
       "      <td>0</td>\n",
       "      <td>0</td>\n",
       "    </tr>\n",
       "    <tr>\n",
       "      <th>6549</th>\n",
       "      <td>NaN</td>\n",
       "      <td>0</td>\n",
       "      <td>1</td>\n",
       "      <td>1</td>\n",
       "      <td>0</td>\n",
       "      <td>1</td>\n",
       "      <td>0</td>\n",
       "    </tr>\n",
       "    <tr>\n",
       "      <th>6551</th>\n",
       "      <td>NaN</td>\n",
       "      <td>0</td>\n",
       "      <td>1</td>\n",
       "      <td>1</td>\n",
       "      <td>0</td>\n",
       "      <td>1</td>\n",
       "      <td>0</td>\n",
       "    </tr>\n",
       "    <tr>\n",
       "      <th>7281</th>\n",
       "      <td>NaN</td>\n",
       "      <td>0</td>\n",
       "      <td>1</td>\n",
       "      <td>0</td>\n",
       "      <td>0</td>\n",
       "      <td>0</td>\n",
       "      <td>0</td>\n",
       "    </tr>\n",
       "  </tbody>\n",
       "</table>\n",
       "</div>"
      ],
      "text/plain": [
       "      PositiveImpact  Adaptarion  Bonding  TastesAndAbilities  Responsability  \\\n",
       "622              NaN           1        1                   0               1   \n",
       "2207             NaN           1        1                   1               0   \n",
       "4067             NaN           0        1                   0               0   \n",
       "6549             NaN           0        1                   1               0   \n",
       "6551             NaN           0        1                   1               0   \n",
       "7281             NaN           0        1                   0               0   \n",
       "\n",
       "      Understanding  BondingNeighbours  \n",
       "622               0                  1  \n",
       "2207              0                  0  \n",
       "4067              0                  0  \n",
       "6549              1                  0  \n",
       "6551              1                  0  \n",
       "7281              0                  0  "
      ]
     },
     "execution_count": 190,
     "metadata": {},
     "output_type": "execute_result"
    }
   ],
   "source": [
    "mask_index = df.PositiveImpact.isna() & ((df.Adaptarion==1) | (df.Bonding==1) | (df.TastesAndAbilities==1) | (df.Responsability==1) | (df.Understanding==1) | (df.BondingNeighbours==1))\n",
    "df.loc[mask_index, ['PositiveImpact', 'Adaptarion', 'Bonding', 'TastesAndAbilities', 'Responsability', 'Understanding', 'BondingNeighbours']]"
   ]
  },
  {
   "cell_type": "code",
   "execution_count": 191,
   "metadata": {},
   "outputs": [],
   "source": [
    "df.loc[mask_index, ['PositiveImpact']] = df.PositiveImpact.mode()[0]"
   ]
  },
  {
   "cell_type": "markdown",
   "metadata": {},
   "source": [
    "---"
   ]
  },
  {
   "cell_type": "markdown",
   "metadata": {},
   "source": [
    "### NaN values of '**InterruptChildren**' and '**InterruptChildrenFrequency**' columns\n",
    "The pattern of the next questions is \"If yes, then answere....\", so \n",
    "\n",
    "To start missing values of 'InterruptChildrenFrequency' are set to 0, then\n",
    "- if **InterruptChildrenFrequency** values **>** 0 (**nan**)  then  '**InterruptChildren**' is set to 1 (\"**yes**\")  \n",
    "- else drop istance"
   ]
  },
  {
   "cell_type": "code",
   "execution_count": 192,
   "metadata": {},
   "outputs": [],
   "source": [
    "# Assign 1  where 'InterruptChildren' is NaN and 'InterruptChildrenFrequency' si not\n",
    "df.loc[ (df.InterruptChildrenFrequency.isna() == False) & df.InterruptChildren.isna(), ['InterruptChildren']] = 1"
   ]
  },
  {
   "cell_type": "code",
   "execution_count": 193,
   "metadata": {},
   "outputs": [],
   "source": [
    "# Drop if 'InterruptChildren' and 'InterruptChildrenFrequency' are NaN\n",
    "df = df.loc[ (df.InterruptChildrenFrequency.isna() == False) | (df.InterruptChildren.isna() == False), :]"
   ]
  },
  {
   "cell_type": "markdown",
   "metadata": {},
   "source": [
    "#### Note:\n",
    "Most of missing values are due to the fact that the respondents replied 'False' to the question 'Interrupted working day to take care of children?'"
   ]
  },
  {
   "cell_type": "code",
   "execution_count": 194,
   "metadata": {},
   "outputs": [
    {
     "name": "stdout",
     "output_type": "stream",
     "text": [
      "There are 1547 missing values in 'InterruptChildrenFrequency' column\n"
     ]
    }
   ],
   "source": [
    "na_val_count = df.InterruptChildrenFrequency.isna().sum()\n",
    "print(f\"There are {na_val_count} missing values in 'InterruptChildrenFrequency' column\")"
   ]
  },
  {
   "cell_type": "code",
   "execution_count": 195,
   "metadata": {},
   "outputs": [],
   "source": [
    "# Assign 0 where 'InterruptChildrenFrequency' is NaN\n",
    "df.loc[df.InterruptChildrenFrequency.isna(), 'InterruptChildrenFrequency'] = 0"
   ]
  },
  {
   "cell_type": "markdown",
   "metadata": {},
   "source": [
    "#### TODO"
   ]
  },
  {
   "cell_type": "code",
   "execution_count": 196,
   "metadata": {},
   "outputs": [
    {
     "data": {
      "text/plain": [
       "InterruptChildrenFrequency\n",
       "1.0    79\n",
       "3.0    22\n",
       "2.0    22\n",
       "Name: count, dtype: int64"
      ]
     },
     "execution_count": 196,
     "metadata": {},
     "output_type": "execute_result"
    }
   ],
   "source": [
    "# ??????????????????????????????????    THIS ISN'T POSSIBLE    ??????????????????????????????????\n",
    "df.loc[ (df.InterruptChildren == 0) & (df.InterruptChildrenFrequency > 0), 'InterruptChildrenFrequency'].value_counts()"
   ]
  },
  {
   "cell_type": "markdown",
   "metadata": {},
   "source": [
    "---"
   ]
  },
  {
   "cell_type": "markdown",
   "metadata": {},
   "source": [
    "### NaN values of '**NegativeImpact**' column\n",
    "The pattern of the next questions is \"If yes, then answere...\", so \n",
    "- if at least one of the next questions values is 1 (**yes**)  then  '**NegativeImpact**' is set to 2 (\"**yes**\")"
   ]
  },
  {
   "cell_type": "code",
   "execution_count": 197,
   "metadata": {},
   "outputs": [
    {
     "data": {
      "text/plain": [
       "np.int64(20)"
      ]
     },
     "execution_count": 197,
     "metadata": {},
     "output_type": "execute_result"
    }
   ],
   "source": [
    "df.NegativeImpact.isna().sum()"
   ]
  },
  {
   "cell_type": "code",
   "execution_count": 198,
   "metadata": {},
   "outputs": [
    {
     "name": "stdout",
     "output_type": "stream",
     "text": [
      "There are 16 NaN values in 'NegativeImpact' column \n",
      "This is the head:\n"
     ]
    },
    {
     "data": {
      "text/html": [
       "<div>\n",
       "<style scoped>\n",
       "    .dataframe tbody tr th:only-of-type {\n",
       "        vertical-align: middle;\n",
       "    }\n",
       "\n",
       "    .dataframe tbody tr th {\n",
       "        vertical-align: top;\n",
       "    }\n",
       "\n",
       "    .dataframe thead th {\n",
       "        text-align: right;\n",
       "    }\n",
       "</style>\n",
       "<table border=\"1\" class=\"dataframe\">\n",
       "  <thead>\n",
       "    <tr style=\"text-align: right;\">\n",
       "      <th></th>\n",
       "      <th>NegativeImpact</th>\n",
       "      <th>Anxiety</th>\n",
       "      <th>Loneliness</th>\n",
       "      <th>Sadness</th>\n",
       "      <th>LossFamilyMember</th>\n",
       "      <th>FinancialLoss</th>\n",
       "      <th>Arguments</th>\n",
       "      <th>AlcoholMedicationDrug</th>\n",
       "      <th>TechnologyUse</th>\n",
       "      <th>NegativeImpactOther</th>\n",
       "    </tr>\n",
       "  </thead>\n",
       "  <tbody>\n",
       "    <tr>\n",
       "      <th>407</th>\n",
       "      <td>NaN</td>\n",
       "      <td>1</td>\n",
       "      <td>1</td>\n",
       "      <td>1</td>\n",
       "      <td>0</td>\n",
       "      <td>0</td>\n",
       "      <td>0</td>\n",
       "      <td>0</td>\n",
       "      <td>0</td>\n",
       "      <td>0</td>\n",
       "    </tr>\n",
       "    <tr>\n",
       "      <th>1648</th>\n",
       "      <td>NaN</td>\n",
       "      <td>1</td>\n",
       "      <td>0</td>\n",
       "      <td>0</td>\n",
       "      <td>0</td>\n",
       "      <td>0</td>\n",
       "      <td>1</td>\n",
       "      <td>0</td>\n",
       "      <td>1</td>\n",
       "      <td>0</td>\n",
       "    </tr>\n",
       "    <tr>\n",
       "      <th>1853</th>\n",
       "      <td>NaN</td>\n",
       "      <td>1</td>\n",
       "      <td>1</td>\n",
       "      <td>1</td>\n",
       "      <td>0</td>\n",
       "      <td>0</td>\n",
       "      <td>0</td>\n",
       "      <td>0</td>\n",
       "      <td>1</td>\n",
       "      <td>0</td>\n",
       "    </tr>\n",
       "    <tr>\n",
       "      <th>2311</th>\n",
       "      <td>NaN</td>\n",
       "      <td>0</td>\n",
       "      <td>0</td>\n",
       "      <td>0</td>\n",
       "      <td>0</td>\n",
       "      <td>0</td>\n",
       "      <td>0</td>\n",
       "      <td>0</td>\n",
       "      <td>1</td>\n",
       "      <td>0</td>\n",
       "    </tr>\n",
       "    <tr>\n",
       "      <th>3159</th>\n",
       "      <td>NaN</td>\n",
       "      <td>1</td>\n",
       "      <td>0</td>\n",
       "      <td>1</td>\n",
       "      <td>1</td>\n",
       "      <td>0</td>\n",
       "      <td>0</td>\n",
       "      <td>0</td>\n",
       "      <td>1</td>\n",
       "      <td>0</td>\n",
       "    </tr>\n",
       "  </tbody>\n",
       "</table>\n",
       "</div>"
      ],
      "text/plain": [
       "      NegativeImpact  Anxiety  Loneliness  Sadness  LossFamilyMember  \\\n",
       "407              NaN        1           1        1                 0   \n",
       "1648             NaN        1           0        0                 0   \n",
       "1853             NaN        1           1        1                 0   \n",
       "2311             NaN        0           0        0                 0   \n",
       "3159             NaN        1           0        1                 1   \n",
       "\n",
       "      FinancialLoss  Arguments  AlcoholMedicationDrug  TechnologyUse  \\\n",
       "407               0          0                      0              0   \n",
       "1648              0          1                      0              1   \n",
       "1853              0          0                      0              1   \n",
       "2311              0          0                      0              1   \n",
       "3159              0          0                      0              1   \n",
       "\n",
       "      NegativeImpactOther  \n",
       "407                     0  \n",
       "1648                    0  \n",
       "1853                    0  \n",
       "2311                    0  \n",
       "3159                    0  "
      ]
     },
     "execution_count": 198,
     "metadata": {},
     "output_type": "execute_result"
    }
   ],
   "source": [
    "mask_index = df.NegativeImpact.isna() & ((df.Anxiety==1) | (df.TechnologyUse==1) | (df.Sadness==1) | (df.Arguments==1) | (df.FinancialLoss==1) | (df.Loneliness==1) | (df.LossFamilyMember==1) | (df.NegativeImpactOther==1) | (df.AlcoholMedicationDrug==1))\n",
    "\n",
    "print(f\"There are {(df.loc[mask_index]).shape[0]} NaN values in 'NegativeImpact' column \\nThis is the head:\")\n",
    "\n",
    "df.loc[mask_index, 'NegativeImpact' : 'NegativeImpactOther'].head()"
   ]
  },
  {
   "cell_type": "code",
   "execution_count": 199,
   "metadata": {},
   "outputs": [],
   "source": [
    "df.loc[mask_index, 'NegativeImpact'] = df.NegativeImpact.mode()[0]"
   ]
  },
  {
   "cell_type": "markdown",
   "metadata": {},
   "source": [
    "Drop all remaining instances with NaN value"
   ]
  },
  {
   "cell_type": "code",
   "execution_count": 200,
   "metadata": {},
   "outputs": [
    {
     "data": {
      "text/plain": [
       "3483   NaN\n",
       "4232   NaN\n",
       "4490   NaN\n",
       "4491   NaN\n",
       "Name: NegativeImpact, dtype: float64"
      ]
     },
     "execution_count": 200,
     "metadata": {},
     "output_type": "execute_result"
    }
   ],
   "source": [
    "df.loc[df.NegativeImpact.isna(), 'NegativeImpact']"
   ]
  },
  {
   "cell_type": "code",
   "execution_count": 201,
   "metadata": {},
   "outputs": [],
   "source": [
    "df = df.loc[df.NegativeImpact.isna() == False, :]"
   ]
  },
  {
   "cell_type": "markdown",
   "metadata": {},
   "source": [
    "---"
   ]
  },
  {
   "cell_type": "markdown",
   "metadata": {},
   "source": [
    "### NaN values of '**FamiliesCollaboration**' column\n",
    "- Replace all the missing values with meddle values such as \"**I don't know**\""
   ]
  },
  {
   "cell_type": "code",
   "execution_count": 202,
   "metadata": {},
   "outputs": [
    {
     "name": "stdout",
     "output_type": "stream",
     "text": [
      "There are 0 NaN values\n"
     ]
    }
   ],
   "source": [
    "na_val_count = df.FamiliesCollaboration.isna().sum()\n",
    "print(f\"There are {na_val_count} NaN values\")"
   ]
  },
  {
   "cell_type": "code",
   "execution_count": 203,
   "metadata": {},
   "outputs": [],
   "source": [
    "# middle_value = 2\n",
    "# df.loc[df.FamiliesCollaboration.isna(), 'FamiliesCollaboration'] = middle_value"
   ]
  },
  {
   "cell_type": "markdown",
   "metadata": {},
   "source": [
    "---"
   ]
  },
  {
   "cell_type": "markdown",
   "metadata": {},
   "source": [
    "### NaN values of '**SchoolSpace**' column\n",
    "- Replace all the missing values with meddle values such as \"**Maybe**\""
   ]
  },
  {
   "cell_type": "code",
   "execution_count": 204,
   "metadata": {},
   "outputs": [
    {
     "name": "stdout",
     "output_type": "stream",
     "text": [
      "There are 5 NaN values\n"
     ]
    }
   ],
   "source": [
    "na_val_count = df.SchoolSpace.isna().sum()\n",
    "print(f\"There are {na_val_count} NaN values\")"
   ]
  },
  {
   "cell_type": "code",
   "execution_count": 205,
   "metadata": {},
   "outputs": [],
   "source": [
    "middle_value = 2\n",
    "df.loc[df.SchoolSpace.isna(), 'SchoolSpace'] = middle_value"
   ]
  },
  {
   "cell_type": "markdown",
   "metadata": {},
   "source": [
    "---"
   ]
  },
  {
   "cell_type": "markdown",
   "metadata": {},
   "source": [
    "#### The filter of the NaN values\n",
    "\n",
    "At the end remove all istances with a NaN value"
   ]
  },
  {
   "cell_type": "code",
   "execution_count": 206,
   "metadata": {},
   "outputs": [],
   "source": [
    "# Columns with a least one NaN value\n",
    "na_columns = df.columns[df.isna().any()]\n",
    "\n",
    "# Rows with a least 1 NAN value\n",
    "na_rows = df[na_columns].isna().sum(axis=1) >= 1\n",
    "\n",
    "df_rowsWithNa = df.loc[na_rows, na_columns]\n"
   ]
  },
  {
   "cell_type": "code",
   "execution_count": 207,
   "metadata": {},
   "outputs": [],
   "source": [
    "index = [i for i in np.array(df.index) if i not in df_rowsWithNa.index]\n",
    "\n",
    "df = df.loc[index, :]"
   ]
  },
  {
   "cell_type": "code",
   "execution_count": 208,
   "metadata": {},
   "outputs": [
    {
     "data": {
      "text/plain": [
       "(6016, 108)"
      ]
     },
     "execution_count": 208,
     "metadata": {},
     "output_type": "execute_result"
    }
   ],
   "source": [
    "df.shape"
   ]
  },
  {
   "cell_type": "markdown",
   "metadata": {},
   "source": [
    "## 2. Clean dataset analysis\n",
    "Main socio-demographic features description"
   ]
  },
  {
   "cell_type": "markdown",
   "metadata": {},
   "source": [
    "#### Note 'Gender': \n",
    "Dataset unbalanced for the gendere 2 (female)"
   ]
  },
  {
   "cell_type": "code",
   "execution_count": 209,
   "metadata": {},
   "outputs": [
    {
     "data": {
      "text/plain": [
       "Gender\n",
       "2.0    5487\n",
       "1.0     529\n",
       "Name: count, dtype: int64"
      ]
     },
     "execution_count": 209,
     "metadata": {},
     "output_type": "execute_result"
    }
   ],
   "source": [
    "df.Gender.value_counts()"
   ]
  },
  {
   "cell_type": "markdown",
   "metadata": {},
   "source": [
    "#### Note 'AutonomousCommunity':\n",
    "The First Provinces where the responents (74%) lives are:\n",
    "- COMUNIDAD VALENCIANA\n",
    "- MADRID\n",
    "- CATALUÑA\n",
    "- ANDALUCÍA"
   ]
  },
  {
   "cell_type": "code",
   "execution_count": 210,
   "metadata": {},
   "outputs": [
    {
     "data": {
      "text/plain": [
       "AutonomousCommunity\n",
       "COMUNIDAD VALENCIANA    2629\n",
       "MADRID                  1012\n",
       "CATALUÑA                 586\n",
       "ANDALUCÍA                428\n",
       "CASTILLA Y LEÓN          193\n",
       "PAIS VASCO               171\n",
       "GALICIA                  169\n",
       "CASTILLA LA MANCHA       138\n",
       "ARAGÓN                   132\n",
       "CANARIAS                 119\n",
       "ASTURIAS                 111\n",
       "MURCIA                    88\n",
       "ILLES BALEARS             73\n",
       "CANTABRIA                 50\n",
       "NAVARRA                   47\n",
       "EXTREMADURA               40\n",
       "LA RIOJA                  26\n",
       "CEUTA                      3\n",
       "MELILLA                    1\n",
       "Name: count, dtype: int64"
      ]
     },
     "execution_count": 210,
     "metadata": {},
     "output_type": "execute_result"
    }
   ],
   "source": [
    "df.AutonomousCommunity.value_counts()"
   ]
  },
  {
   "cell_type": "markdown",
   "metadata": {},
   "source": [
    "#### Note 'SchoolOwnership' & 'KindOfPlace':\n",
    "Most of families live in Big city & send their kids to public school"
   ]
  },
  {
   "cell_type": "code",
   "execution_count": 211,
   "metadata": {},
   "outputs": [
    {
     "data": {
      "text/plain": [
       "SchoolOwnership\n",
       "Público       3801\n",
       "Concertado    1535\n",
       "Privado        680\n",
       "Name: count, dtype: int64"
      ]
     },
     "execution_count": 211,
     "metadata": {},
     "output_type": "execute_result"
    }
   ],
   "source": [
    "df.SchoolOwnership.value_counts()"
   ]
  },
  {
   "cell_type": "code",
   "execution_count": 212,
   "metadata": {},
   "outputs": [
    {
     "data": {
      "text/plain": [
       "KindOfPlace\n",
       "2.0    3621\n",
       "1.0    1520\n",
       "0.0     875\n",
       "Name: count, dtype: int64"
      ]
     },
     "execution_count": 212,
     "metadata": {},
     "output_type": "execute_result"
    }
   ],
   "source": [
    "df.KindOfPlace.value_counts()"
   ]
  },
  {
   "cell_type": "markdown",
   "metadata": {},
   "source": [
    "#### Note 'LivingUnit':\n",
    "Most of families are composed with \"Two adults with a minor or minors in their care\""
   ]
  },
  {
   "cell_type": "code",
   "execution_count": 213,
   "metadata": {},
   "outputs": [
    {
     "data": {
      "text/plain": [
       "LivingUnit\n",
       "2    5228\n",
       "1     517\n",
       "3     271\n",
       "Name: count, dtype: int64"
      ]
     },
     "execution_count": 213,
     "metadata": {},
     "output_type": "execute_result"
    }
   ],
   "source": [
    "df.LivingUnit.value_counts()"
   ]
  },
  {
   "cell_type": "code",
   "execution_count": 214,
   "metadata": {},
   "outputs": [
    {
     "data": {
      "text/plain": [
       "DependentPersons\n",
       "0    5634\n",
       "1     382\n",
       "Name: count, dtype: int64"
      ]
     },
     "execution_count": 214,
     "metadata": {},
     "output_type": "execute_result"
    }
   ],
   "source": [
    "df.DependentPersons.value_counts()"
   ]
  },
  {
   "cell_type": "markdown",
   "metadata": {},
   "source": [
    "#### Note 'WorkConfinement':\n",
    "Most respondents started working remotely."
   ]
  },
  {
   "cell_type": "code",
   "execution_count": 215,
   "metadata": {},
   "outputs": [
    {
     "data": {
      "text/plain": [
       "WorkConfinement\n",
       "1    4133\n",
       "0    1883\n",
       "Name: count, dtype: int64"
      ]
     },
     "execution_count": 215,
     "metadata": {},
     "output_type": "execute_result"
    }
   ],
   "source": [
    "df.WorkConfinement.value_counts()"
   ]
  },
  {
   "cell_type": "markdown",
   "metadata": {},
   "source": [
    "#### Note Children's education:\n",
    "Most families have children who go to middle school at most."
   ]
  },
  {
   "cell_type": "code",
   "execution_count": 216,
   "metadata": {},
   "outputs": [
    {
     "data": {
      "text/plain": [
       "ChildEarlyEducation1\n",
       "0    3637\n",
       "1    2379\n",
       "Name: count, dtype: int64"
      ]
     },
     "execution_count": 216,
     "metadata": {},
     "output_type": "execute_result"
    }
   ],
   "source": [
    "df.ChildEarlyEducation1.value_counts()"
   ]
  },
  {
   "cell_type": "code",
   "execution_count": 217,
   "metadata": {},
   "outputs": [
    {
     "data": {
      "text/plain": [
       "ChildEarlyEducation2\n",
       "0    3027\n",
       "1    2989\n",
       "Name: count, dtype: int64"
      ]
     },
     "execution_count": 217,
     "metadata": {},
     "output_type": "execute_result"
    }
   ],
   "source": [
    "df.ChildEarlyEducation2.value_counts()"
   ]
  },
  {
   "cell_type": "code",
   "execution_count": 218,
   "metadata": {},
   "outputs": [
    {
     "data": {
      "text/plain": [
       "ChildPrimaryEducation\n",
       "0    3618\n",
       "1    2398\n",
       "Name: count, dtype: int64"
      ]
     },
     "execution_count": 218,
     "metadata": {},
     "output_type": "execute_result"
    }
   ],
   "source": [
    "df.ChildPrimaryEducation.value_counts()"
   ]
  },
  {
   "cell_type": "code",
   "execution_count": 219,
   "metadata": {},
   "outputs": [
    {
     "data": {
      "text/plain": [
       "ChildSecondaryEducation\n",
       "0    5464\n",
       "1     552\n",
       "Name: count, dtype: int64"
      ]
     },
     "execution_count": 219,
     "metadata": {},
     "output_type": "execute_result"
    }
   ],
   "source": [
    "df.ChildSecondaryEducation.value_counts()"
   ]
  },
  {
   "cell_type": "code",
   "execution_count": 224,
   "metadata": {},
   "outputs": [
    {
     "data": {
      "text/plain": [
       "ChildBaccaleaurate\n",
       "0    5938\n",
       "1      78\n",
       "Name: count, dtype: int64"
      ]
     },
     "execution_count": 224,
     "metadata": {},
     "output_type": "execute_result"
    }
   ],
   "source": [
    "df.ChildBaccaleaurate.value_counts()"
   ]
  },
  {
   "cell_type": "code",
   "execution_count": 225,
   "metadata": {},
   "outputs": [
    {
     "data": {
      "text/plain": [
       "ChildVocationalTraining\n",
       "0    5992\n",
       "1      24\n",
       "Name: count, dtype: int64"
      ]
     },
     "execution_count": 225,
     "metadata": {},
     "output_type": "execute_result"
    }
   ],
   "source": [
    "df.ChildVocationalTraining.value_counts()"
   ]
  },
  {
   "cell_type": "code",
   "execution_count": 226,
   "metadata": {},
   "outputs": [
    {
     "data": {
      "text/plain": [
       "ChildrenSpecialNeeds\n",
       "0    5659\n",
       "1     357\n",
       "Name: count, dtype: int64"
      ]
     },
     "execution_count": 226,
     "metadata": {},
     "output_type": "execute_result"
    }
   ],
   "source": [
    "df.ChildrenSpecialNeeds.value_counts()"
   ]
  },
  {
   "cell_type": "markdown",
   "metadata": {},
   "source": [
    "## FILE SAVING"
   ]
  },
  {
   "cell_type": "code",
   "execution_count": 227,
   "metadata": {},
   "outputs": [],
   "source": [
    "df.to_csv(path_or_buf=\"./Array_saved/X_without_null.csv\", index=False)"
   ]
  }
 ],
 "metadata": {
  "kernelspec": {
   "display_name": "DataMiningEnv",
   "language": "python",
   "name": "python3"
  },
  "language_info": {
   "codemirror_mode": {
    "name": "ipython",
    "version": 3
   },
   "file_extension": ".py",
   "mimetype": "text/x-python",
   "name": "python",
   "nbconvert_exporter": "python",
   "pygments_lexer": "ipython3",
   "version": "3.12.2"
  }
 },
 "nbformat": 4,
 "nbformat_minor": 2
}
