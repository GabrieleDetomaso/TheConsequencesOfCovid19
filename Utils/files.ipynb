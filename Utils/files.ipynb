{
 "cells": [
  {
   "cell_type": "code",
   "execution_count": 1,
   "metadata": {},
   "outputs": [],
   "source": [
    "import numpy as np\n",
    "import pandas as pd\n",
    "\n",
    "ARRAY_DIRECTORY_PATH = \"../Array_saved\""
   ]
  },
  {
   "cell_type": "code",
   "execution_count": 2,
   "metadata": {},
   "outputs": [],
   "source": [
    "def save_array(nparray, nameCSV = \"array\", path_dir = ARRAY_DIRECTORY_PATH):\n",
    "    '''\n",
    "    Save an array on disk.\n",
    "\n",
    "    Parameters:\n",
    "    nparray (np.array): the array to save.\n",
    "    nameCSV (string): only the name of the file where would to save the array\n",
    "    path_dir (string): the directory path where the csv will be insert\n",
    "\n",
    "    \n",
    "    Returns:\n",
    "    nothing (for the moment)\n",
    "    '''\n",
    "\n",
    "    # Convert to DataFrame & \n",
    "    df = pd.DataFrame(nparray)\n",
    "\n",
    "    # Save to disk as a CSV file\n",
    "    return df.to_csv(path_dir+\"/\"+nameCSV+\".csv\", index=False, header=False) \n",
    "    # TODO far ritornare un valore booleano al metodo\n",
    "\n",
    "    \n",
    "def import_array(namecsv = \"array\", path_dir = ARRAY_DIRECTORY_PATH):\n",
    "    '''\n",
    "    Import an array from disk.\n",
    "\n",
    "    Parameters:\n",
    "        nameCSV (string): only the name of the file that you would to import\n",
    "        path_dir (string): the directory path where the csv is placed\n",
    "\n",
    "    \n",
    "    Returns:\n",
    "        nparray\n",
    "    '''\n",
    "\n",
    "    # Read CSV into DataFrame\n",
    "    df = pd.read_csv(path_dir+\"/\"+namecsv+\".csv\", header=None)\n",
    "\n",
    "    # Convert back to NumPy array\n",
    "    return df.to_numpy()"
   ]
  }
 ],
 "metadata": {
  "kernelspec": {
   "display_name": "DataMiningEnv",
   "language": "python",
   "name": "python3"
  },
  "language_info": {
   "codemirror_mode": {
    "name": "ipython",
    "version": 3
   },
   "file_extension": ".py",
   "mimetype": "text/x-python",
   "name": "python",
   "nbconvert_exporter": "python",
   "pygments_lexer": "ipython3",
   "version": "3.12.2"
  }
 },
 "nbformat": 4,
 "nbformat_minor": 2
}
